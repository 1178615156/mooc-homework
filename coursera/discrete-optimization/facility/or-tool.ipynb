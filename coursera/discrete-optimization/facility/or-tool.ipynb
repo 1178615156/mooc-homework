{
 "cells": [
  {
   "cell_type": "code",
   "execution_count": 2,
   "metadata": {
    "ExecuteTime": {
     "end_time": "2019-02-23T10:50:11.626453Z",
     "start_time": "2019-02-23T10:50:11.150422Z"
    }
   },
   "outputs": [],
   "source": [
    "from python_help import *\n",
    "from ortools.sat.python import cp_model\n"
   ]
  },
  {
   "cell_type": "code",
   "execution_count": 2,
   "metadata": {
    "ExecuteTime": {
     "end_time": "2019-02-21T10:21:23.739129Z",
     "start_time": "2019-02-21T10:21:23.735098Z"
    }
   },
   "outputs": [],
   "source": [
    "# def length(point1, point2):\n",
    "#     return math.sqrt((point1.x - point2.x)**2 + (point1.y - point2.y)**2)\n",
    "# def cost_result(used,solution):\n",
    "#     obj = sum([f.setup_cost*used[f.index] for f in facilities])\n",
    "#     for customer in customers:\n",
    "#         obj += length(customer.location, facilities[solution[customer.index]].location)\n",
    "#     return obj \n"
   ]
  },
  {
   "cell_type": "code",
   "execution_count": 3,
   "metadata": {
    "ExecuteTime": {
     "end_time": "2019-02-23T10:50:28.402378Z",
     "start_time": "2019-02-23T10:50:28.398364Z"
    }
   },
   "outputs": [],
   "source": [
    "input_data = open(\"./data/fl_25_2\").read()\n",
    "\n",
    "facilities,customers = read_data(input_data)"
   ]
  },
  {
   "cell_type": "code",
   "execution_count": 4,
   "metadata": {
    "ExecuteTime": {
     "end_time": "2019-02-23T10:50:31.390782Z",
     "start_time": "2019-02-23T10:50:30.719786Z"
    }
   },
   "outputs": [],
   "source": [
    "customer_cost = np.zeros((len(customers),len(facilities)))\n",
    "for c in range(len(customers)):\n",
    "    for f in range(len(facilities)):\n",
    "        customer_cost[c,f] = length(customers[c].location,facilities[f].location)\n",
    "        \n",
    "        \n",
    "customer_cost = pd.DataFrame(customer_cost)\n",
    "customer_damend = pd.Series(list(map(lambda x:x.demand,customers )))\n",
    "facility_cost = pd.Series(list(map(lambda x:x.setup_cost,facilities)))\n",
    "facility_capacity = pd.Series(list(map(lambda x:x.capacity,facilities)))"
   ]
  },
  {
   "cell_type": "code",
   "execution_count": 5,
   "metadata": {
    "ExecuteTime": {
     "end_time": "2019-02-23T10:50:33.798222Z",
     "start_time": "2019-02-23T10:50:33.795223Z"
    }
   },
   "outputs": [],
   "source": [
    "customer_size = len(customer_damend)\n",
    "facility_size = len(facility_cost)\n"
   ]
  },
  {
   "cell_type": "code",
   "execution_count": 17,
   "metadata": {
    "ExecuteTime": {
     "end_time": "2019-02-23T10:56:46.242222Z",
     "start_time": "2019-02-23T10:56:46.239192Z"
    }
   },
   "outputs": [],
   "source": [
    "model = cp_model.CpModel()"
   ]
  },
  {
   "cell_type": "code",
   "execution_count": 18,
   "metadata": {
    "ExecuteTime": {
     "end_time": "2019-02-23T10:56:46.466193Z",
     "start_time": "2019-02-23T10:56:46.463193Z"
    }
   },
   "outputs": [],
   "source": [
    "fs = [\n",
    "    model.NewBoolVar(name=\"f\" + str(i))\n",
    "    for i in range(facility_size)\n",
    "]"
   ]
  },
  {
   "cell_type": "code",
   "execution_count": 49,
   "metadata": {
    "ExecuteTime": {
     "end_time": "2019-02-23T11:59:30.118157Z",
     "start_time": "2019-02-23T11:59:30.114157Z"
    }
   },
   "outputs": [],
   "source": [
    "xs = [model.NewIntVar(name=f\"x{i}\",lb=0,ub=facility_size-1) for i in range(customer_size)]\n",
    "# xs = [model.NewIntervalVar(name=f\"x{i}\",start=0,end=25,size=25) for i in range(customer_size)]"
   ]
  },
  {
   "cell_type": "code",
   "execution_count": 78,
   "metadata": {
    "ExecuteTime": {
     "end_time": "2019-02-23T12:32:53.458915Z",
     "start_time": "2019-02-23T12:32:53.444920Z"
    }
   },
   "outputs": [
    {
     "ename": "TypeError",
     "evalue": "Not() takes 1 positional argument but 2 were given",
     "output_type": "error",
     "traceback": [
      "\u001b[1;31m---------------------------------------------------------------------------\u001b[0m",
      "\u001b[1;31mTypeError\u001b[0m                                 Traceback (most recent call last)",
      "\u001b[1;32m<ipython-input-78-1dda59518574>\u001b[0m in \u001b[0;36m<module>\u001b[1;34m()\u001b[0m\n\u001b[0;32m      1\u001b[0m \u001b[0mz\u001b[0m \u001b[1;33m=\u001b[0m \u001b[0mmodel\u001b[0m\u001b[1;33m.\u001b[0m\u001b[0mNewBoolVar\u001b[0m\u001b[1;33m(\u001b[0m\u001b[1;34m\"z\"\u001b[0m\u001b[1;33m)\u001b[0m\u001b[1;33m\u001b[0m\u001b[0m\n\u001b[1;32m----> 2\u001b[1;33m \u001b[0mz\u001b[0m\u001b[1;33m.\u001b[0m\u001b[0mNot\u001b[0m\u001b[1;33m(\u001b[0m\u001b[0mz\u001b[0m\u001b[1;33m)\u001b[0m\u001b[1;33m\u001b[0m\u001b[0m\n\u001b[0m",
      "\u001b[1;31mTypeError\u001b[0m: Not() takes 1 positional argument but 2 were given"
     ]
    }
   ],
   "source": [
    "z = model.NewBoolVar(\"z\")\n",
    "z.Not(z)\n"
   ]
  },
  {
   "cell_type": "code",
   "execution_count": 51,
   "metadata": {
    "ExecuteTime": {
     "end_time": "2019-02-23T11:59:31.441933Z",
     "start_time": "2019-02-23T11:59:31.437901Z"
    }
   },
   "outputs": [],
   "source": [
    "xs_cost = [model.NewIntVar(name=f\"xc{i}\",lb=0,ub=facility_size-1) for i in range(customer_size)]\n"
   ]
  },
  {
   "cell_type": "code",
   "execution_count": 52,
   "metadata": {
    "ExecuteTime": {
     "end_time": "2019-02-23T11:59:31.928906Z",
     "start_time": "2019-02-23T11:59:31.922895Z"
    }
   },
   "outputs": [
    {
     "data": {
      "text/plain": [
       "<ortools.sat.python.cp_model.Constraint at 0x20ff7aa9b00>"
      ]
     },
     "execution_count": 52,
     "metadata": {},
     "output_type": "execute_result"
    }
   ],
   "source": [
    "model.AddElement(xs[0],fs,True)"
   ]
  },
  {
   "cell_type": "code",
   "execution_count": 42,
   "metadata": {
    "ExecuteTime": {
     "end_time": "2019-02-23T11:16:06.087716Z",
     "start_time": "2019-02-23T11:16:06.080702Z"
    }
   },
   "outputs": [
    {
     "data": {
      "text/plain": [
       "<ortools.sat.python.cp_model.Constraint at 0x20ff5886d68>"
      ]
     },
     "execution_count": 42,
     "metadata": {},
     "output_type": "execute_result"
    }
   ],
   "source": [
    "model.AddElement(xs[0],\n",
    "                 list(customer_cost.loc[0].values.astype(\"int\")),\n",
    "                 xs_cost[0])"
   ]
  },
  {
   "cell_type": "code",
   "execution_count": 61,
   "metadata": {
    "ExecuteTime": {
     "end_time": "2019-02-23T12:22:40.908181Z",
     "start_time": "2019-02-23T12:22:40.905153Z"
    }
   },
   "outputs": [],
   "source": [
    "a = model.NewIntervalVar(start=0,end=25,size=25,name=\"a\")"
   ]
  },
  {
   "cell_type": "code",
   "execution_count": 62,
   "metadata": {
    "ExecuteTime": {
     "end_time": "2019-02-23T12:22:50.504375Z",
     "start_time": "2019-02-23T12:22:50.490372Z"
    }
   },
   "outputs": [
    {
     "ename": "TypeError",
     "evalue": "bad operand type for unary -: 'IntervalVar'",
     "output_type": "error",
     "traceback": [
      "\u001b[1;31m---------------------------------------------------------------------------\u001b[0m",
      "\u001b[1;31mTypeError\u001b[0m                                 Traceback (most recent call last)",
      "\u001b[1;32m<ipython-input-62-c86cc44a4176>\u001b[0m in \u001b[0;36m<module>\u001b[1;34m()\u001b[0m\n\u001b[1;32m----> 1\u001b[1;33m \u001b[0ma\u001b[0m \u001b[1;33m==\u001b[0m \u001b[0mxs\u001b[0m\u001b[1;33m[\u001b[0m\u001b[1;36m0\u001b[0m\u001b[1;33m]\u001b[0m\u001b[1;33m\u001b[0m\u001b[0m\n\u001b[0m",
      "\u001b[1;32mC:\\ProgramData\\Anaconda3\\lib\\site-packages\\ortools\\sat\\python\\cp_model.py\u001b[0m in \u001b[0;36m__eq__\u001b[1;34m(self, arg)\u001b[0m\n\u001b[0;32m    188\u001b[0m             \u001b[1;32mreturn\u001b[0m \u001b[0mLinearInequality\u001b[0m\u001b[1;33m(\u001b[0m\u001b[0mself\u001b[0m\u001b[1;33m,\u001b[0m \u001b[1;33m[\u001b[0m\u001b[0marg\u001b[0m\u001b[1;33m,\u001b[0m \u001b[0marg\u001b[0m\u001b[1;33m]\u001b[0m\u001b[1;33m)\u001b[0m\u001b[1;33m\u001b[0m\u001b[0m\n\u001b[0;32m    189\u001b[0m         \u001b[1;32melse\u001b[0m\u001b[1;33m:\u001b[0m\u001b[1;33m\u001b[0m\u001b[0m\n\u001b[1;32m--> 190\u001b[1;33m             \u001b[1;32mreturn\u001b[0m \u001b[0mLinearInequality\u001b[0m\u001b[1;33m(\u001b[0m\u001b[0mself\u001b[0m \u001b[1;33m-\u001b[0m \u001b[0marg\u001b[0m\u001b[1;33m,\u001b[0m \u001b[1;33m[\u001b[0m\u001b[1;36m0\u001b[0m\u001b[1;33m,\u001b[0m \u001b[1;36m0\u001b[0m\u001b[1;33m]\u001b[0m\u001b[1;33m)\u001b[0m\u001b[1;33m\u001b[0m\u001b[0m\n\u001b[0m\u001b[0;32m    191\u001b[0m \u001b[1;33m\u001b[0m\u001b[0m\n\u001b[0;32m    192\u001b[0m     \u001b[1;32mdef\u001b[0m \u001b[0m__ge__\u001b[0m\u001b[1;33m(\u001b[0m\u001b[0mself\u001b[0m\u001b[1;33m,\u001b[0m \u001b[0marg\u001b[0m\u001b[1;33m)\u001b[0m\u001b[1;33m:\u001b[0m\u001b[1;33m\u001b[0m\u001b[0m\n",
      "\u001b[1;32mC:\\ProgramData\\Anaconda3\\lib\\site-packages\\ortools\\sat\\python\\cp_model.py\u001b[0m in \u001b[0;36m__sub__\u001b[1;34m(self, expr)\u001b[0m\n\u001b[0;32m    149\u001b[0m \u001b[1;33m\u001b[0m\u001b[0m\n\u001b[0;32m    150\u001b[0m     \u001b[1;32mdef\u001b[0m \u001b[0m__sub__\u001b[0m\u001b[1;33m(\u001b[0m\u001b[0mself\u001b[0m\u001b[1;33m,\u001b[0m \u001b[0mexpr\u001b[0m\u001b[1;33m)\u001b[0m\u001b[1;33m:\u001b[0m\u001b[1;33m\u001b[0m\u001b[0m\n\u001b[1;32m--> 151\u001b[1;33m         \u001b[1;32mreturn\u001b[0m \u001b[0m_SumArray\u001b[0m\u001b[1;33m(\u001b[0m\u001b[1;33m[\u001b[0m\u001b[0mself\u001b[0m\u001b[1;33m,\u001b[0m \u001b[1;33m-\u001b[0m\u001b[0mexpr\u001b[0m\u001b[1;33m]\u001b[0m\u001b[1;33m)\u001b[0m\u001b[1;33m\u001b[0m\u001b[0m\n\u001b[0m\u001b[0;32m    152\u001b[0m \u001b[1;33m\u001b[0m\u001b[0m\n\u001b[0;32m    153\u001b[0m     \u001b[1;32mdef\u001b[0m \u001b[0m__rsub__\u001b[0m\u001b[1;33m(\u001b[0m\u001b[0mself\u001b[0m\u001b[1;33m,\u001b[0m \u001b[0marg\u001b[0m\u001b[1;33m)\u001b[0m\u001b[1;33m:\u001b[0m\u001b[1;33m\u001b[0m\u001b[0m\n",
      "\u001b[1;31mTypeError\u001b[0m: bad operand type for unary -: 'IntervalVar'"
     ]
    }
   ],
   "source": [
    "a == xs[0]"
   ]
  },
  {
   "cell_type": "code",
   "execution_count": 56,
   "metadata": {
    "ExecuteTime": {
     "end_time": "2019-02-23T12:02:19.833231Z",
     "start_time": "2019-02-23T12:02:19.818217Z"
    }
   },
   "outputs": [
    {
     "ename": "TypeError",
     "evalue": "unsupported operand type(s) for *: 'LinearInequality' and 'int'",
     "output_type": "error",
     "traceback": [
      "\u001b[1;31m---------------------------------------------------------------------------\u001b[0m",
      "\u001b[1;31mTypeError\u001b[0m                                 Traceback (most recent call last)",
      "\u001b[1;32m<ipython-input-56-ccf5fb52d2a9>\u001b[0m in \u001b[0;36m<module>\u001b[1;34m()\u001b[0m\n\u001b[1;32m----> 1\u001b[1;33m \u001b[0mlist\u001b[0m\u001b[1;33m(\u001b[0m\u001b[0mmap\u001b[0m\u001b[1;33m(\u001b[0m\u001b[1;32mlambda\u001b[0m \u001b[0mx\u001b[0m\u001b[1;33m:\u001b[0m\u001b[1;33m(\u001b[0m\u001b[0mx\u001b[0m \u001b[1;33m==\u001b[0m \u001b[1;36m0\u001b[0m\u001b[1;33m)\u001b[0m \u001b[1;33m*\u001b[0m \u001b[0mcustomer_damend\u001b[0m\u001b[1;33m[\u001b[0m\u001b[1;36m0\u001b[0m\u001b[1;33m]\u001b[0m\u001b[1;33m,\u001b[0m\u001b[0mxs\u001b[0m\u001b[1;33m)\u001b[0m\u001b[1;33m)\u001b[0m\u001b[1;33m\u001b[0m\u001b[0m\n\u001b[0m",
      "\u001b[1;32m<ipython-input-56-ccf5fb52d2a9>\u001b[0m in \u001b[0;36m<lambda>\u001b[1;34m(x)\u001b[0m\n\u001b[1;32m----> 1\u001b[1;33m \u001b[0mlist\u001b[0m\u001b[1;33m(\u001b[0m\u001b[0mmap\u001b[0m\u001b[1;33m(\u001b[0m\u001b[1;32mlambda\u001b[0m \u001b[0mx\u001b[0m\u001b[1;33m:\u001b[0m\u001b[1;33m(\u001b[0m\u001b[0mx\u001b[0m \u001b[1;33m==\u001b[0m \u001b[1;36m0\u001b[0m\u001b[1;33m)\u001b[0m \u001b[1;33m*\u001b[0m \u001b[0mcustomer_damend\u001b[0m\u001b[1;33m[\u001b[0m\u001b[1;36m0\u001b[0m\u001b[1;33m]\u001b[0m\u001b[1;33m,\u001b[0m\u001b[0mxs\u001b[0m\u001b[1;33m)\u001b[0m\u001b[1;33m)\u001b[0m\u001b[1;33m\u001b[0m\u001b[0m\n\u001b[0m",
      "\u001b[1;31mTypeError\u001b[0m: unsupported operand type(s) for *: 'LinearInequality' and 'int'"
     ]
    }
   ],
   "source": [
    "list(map(lambda x:(x == 0) * customer_damend[0],xs))"
   ]
  },
  {
   "cell_type": "code",
   "execution_count": 19,
   "metadata": {
    "ExecuteTime": {
     "end_time": "2019-02-23T10:56:46.714192Z",
     "start_time": "2019-02-23T10:56:46.705196Z"
    }
   },
   "outputs": [],
   "source": [
    "cs = [\n",
    "    model.NewBoolVar(name=\"c%s,%s\" %(i,j))\n",
    "    for i in range(customer_size)\n",
    "    for j in range(facility_size)\n",
    "]\n",
    "cs = np.array(cs).reshape((customer_size,facility_size))\n",
    "model.AddElement()"
   ]
  },
  {
   "cell_type": "code",
   "execution_count": 20,
   "metadata": {
    "ExecuteTime": {
     "end_time": "2019-02-23T10:56:46.983967Z",
     "start_time": "2019-02-23T10:56:46.978966Z"
    }
   },
   "outputs": [],
   "source": [
    "for i in range(customer_size):\n",
    "    row = cs[i,:]\n",
    "#     model.AddMaxEquality(args=row,target=1)\n",
    "    model.AddSumConstraint(variables=row,lb=1,ub=1)\n",
    "#     model.Add(sum(row) == 1)"
   ]
  },
  {
   "cell_type": "code",
   "execution_count": 21,
   "metadata": {
    "ExecuteTime": {
     "end_time": "2019-02-23T10:56:47.276992Z",
     "start_time": "2019-02-23T10:56:47.250966Z"
    }
   },
   "outputs": [],
   "source": [
    "for f,c in zip(fs * facility_capacity,cs.transpose().dot(customer_damend)):\n",
    "    model.Add(c <= f)"
   ]
  },
  {
   "cell_type": "code",
   "execution_count": 22,
   "metadata": {
    "ExecuteTime": {
     "end_time": "2019-02-23T10:56:47.633322Z",
     "start_time": "2019-02-23T10:56:47.614323Z"
    }
   },
   "outputs": [],
   "source": [
    "objective = sum(fs * facility_cost.astype(\"int\")) + sum(sum(cs * customer_cost.values.astype(\"int\")))\n"
   ]
  },
  {
   "cell_type": "code",
   "execution_count": 23,
   "metadata": {
    "ExecuteTime": {
     "end_time": "2019-02-23T10:57:08.497816Z",
     "start_time": "2019-02-23T10:56:48.472821Z"
    }
   },
   "outputs": [
    {
     "data": {
      "text/plain": [
       "'FEASIBLE'"
      ]
     },
     "execution_count": 23,
     "metadata": {},
     "output_type": "execute_result"
    }
   ],
   "source": [
    "model.Minimize(objective)\n",
    "solver = cp_model.CpSolver()\n",
    "solver.parameters.max_time_in_seconds = 20.0\n",
    "status = solver.Solve(model)\n",
    "solver.StatusName(status)"
   ]
  },
  {
   "cell_type": "code",
   "execution_count": null,
   "metadata": {},
   "outputs": [],
   "source": []
  },
  {
   "cell_type": "code",
   "execution_count": 16,
   "metadata": {
    "ExecuteTime": {
     "end_time": "2019-02-23T10:53:50.651611Z",
     "start_time": "2019-02-23T10:53:50.635581Z"
    }
   },
   "outputs": [
    {
     "name": "stdout",
     "output_type": "stream",
     "text": [
      "4788425.624205521\n"
     ]
    }
   ],
   "source": [
    "solution = np.argmax(pd.DataFrame(cs).applymap(solver.Value).values,axis=1)\n",
    "used = list(pd.Series(fs).map(solver.Value).astype(\"int\"))\n",
    "used = np.array(used)\n",
    "used[solution] = 1\n",
    "print(cost_result(used=used,solution=solution,facilities=facilities,customers=customers))\n"
   ]
  },
  {
   "cell_type": "code",
   "execution_count": null,
   "metadata": {},
   "outputs": [],
   "source": [
    "\n",
    "\n",
    "\n",
    "\n",
    "\n",
    "\n",
    "\n",
    "\n",
    "\n",
    "\n",
    "\n",
    "\n",
    "\n",
    "\n",
    "\n",
    "\n",
    "\n",
    "\n",
    "\n",
    "\n",
    "\n",
    "\n",
    "\n",
    "\n"
   ]
  }
 ],
 "metadata": {
  "kernelspec": {
   "display_name": "Python 3",
   "language": "python",
   "name": "python3"
  },
  "language_info": {
   "codemirror_mode": {
    "name": "ipython",
    "version": 3
   },
   "file_extension": ".py",
   "mimetype": "text/x-python",
   "name": "python",
   "nbconvert_exporter": "python",
   "pygments_lexer": "ipython3",
   "version": "3.6.5"
  }
 },
 "nbformat": 4,
 "nbformat_minor": 2
}
