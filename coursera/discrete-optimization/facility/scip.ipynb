{
 "cells": [
  {
   "cell_type": "code",
   "execution_count": 1,
   "metadata": {
    "ExecuteTime": {
     "end_time": "2019-02-24T05:15:12.885433Z",
     "start_time": "2019-02-24T05:15:11.175395Z"
    }
   },
   "outputs": [],
   "source": [
    "%run python_help.py"
   ]
  },
  {
   "cell_type": "code",
   "execution_count": 2,
   "metadata": {
    "ExecuteTime": {
     "end_time": "2019-02-24T05:15:14.843422Z",
     "start_time": "2019-02-24T05:15:12.887385Z"
    }
   },
   "outputs": [
    {
     "data": {
      "text/plain": [
       "172"
      ]
     },
     "execution_count": 2,
     "metadata": {},
     "output_type": "execute_result"
    }
   ],
   "source": [
    "file_name = \"./data/fl_500_7\"\n",
    "input_data = open(file_name).read()\n",
    "facilities,customers = read_data(input_data)\n",
    "\n",
    "customer_cost = gen_customer_cost(facilities,customers)\n",
    "customer_damend = pd.Series(list(map(lambda x:x.demand,customers ))).astype(\"int32\")\n",
    "facility_cost = pd.Series(list(map(lambda x:x.setup_cost,facilities))).astype(\"int32\")\n",
    "facility_capacity = pd.Series(list(map(lambda x:x.capacity,facilities))).astype(\"int32\")\n",
    "facility_size = len(facilities)\n",
    "customer_size = len(customers)\n",
    "facility_min_size = gen_min_facility_size(facilities,customers)\n",
    "facility_min_size"
   ]
  },
  {
   "cell_type": "code",
   "execution_count": 3,
   "metadata": {
    "ExecuteTime": {
     "end_time": "2019-02-24T05:15:14.853389Z",
     "start_time": "2019-02-24T05:15:14.847393Z"
    }
   },
   "outputs": [],
   "source": [
    "def takeVar(l):return list(filter(lambda x:type is Variable,l))\n",
    "\n",
    "class MyModel(ModelHelp):\n",
    "    def __init__(self,model,fs_vtype,cs_vtype):\n",
    "        \n",
    "        fs = facility_cost.map(lambda x: model.addVar(vtype=fs_vtype,lb=0,ub=1))\n",
    "        cs = customer_cost.applymap(lambda x: model.addVar(vtype=cs_vtype,lb=0,ub=1))\n",
    "        \n",
    "        objective = quicksum(fs * facility_cost) + quicksum(cs.values.reshape(-1) * customer_cost.astype(\"int32\").values.reshape(-1))\n",
    "\n",
    "        for index,row in cs.iterrows():\n",
    "            model.addCons(quicksum(row) == 1)\n",
    "            \n",
    "        for f,fc,c in zip(fs,facility_capacity,cs):\n",
    "            damend = quicksum(cs[c] * customer_damend)\n",
    "            model.addCons(damend <= f * fc )\n",
    "            \n",
    "        model.setObjective(objective)\n",
    "        self.model = model \n",
    "        self.objective = objective\n",
    "        self.fs = fs\n",
    "        self.cs = cs\n",
    "        self.facilities = facilities\n",
    "        self.customers = customers"
   ]
  },
  {
   "cell_type": "code",
   "execution_count": 4,
   "metadata": {
    "ExecuteTime": {
     "end_time": "2019-02-24T04:03:22.537320Z",
     "start_time": "2019-02-24T03:51:57.916225Z"
    }
   },
   "outputs": [
    {
     "data": {
      "text/plain": [
       "{'status': 'optimal',\n",
       " 'time': 656.0,\n",
       " 'total_time': 685.0,\n",
       " 'obj ': 23874876.383960444,\n",
       " 'cost': 37099453.174958944}"
      ]
     },
     "execution_count": 4,
     "metadata": {},
     "output_type": "execute_result"
    }
   ],
   "source": [
    "lr_model = MyModel(Model(\"lr-facility\"),fs_vtype=\"C\",cs_vtype=\"B\")\n",
    "lr_model.set_min_facility(facility_min_size)\n",
    "lr_model.set_limit_time(1500)\n",
    "lr_model.optimize()"
   ]
  },
  {
   "cell_type": "code",
   "execution_count": null,
   "metadata": {},
   "outputs": [],
   "source": []
  },
  {
   "cell_type": "code",
   "execution_count": 5,
   "metadata": {
    "ExecuteTime": {
     "end_time": "2019-02-24T04:03:22.552327Z",
     "start_time": "2019-02-24T04:03:22.539325Z"
    },
    "scrolled": true
   },
   "outputs": [
    {
     "name": "stdout",
     "output_type": "stream",
     "text": [
      "Int64Index([], dtype='int64')\n",
      "Int64Index([  1,   2,  20,  28,  59,  71,  79,  80,  83, 101, 102, 122, 126,\n",
      "            174, 199, 204, 212, 245, 262, 281, 286, 291, 303, 304, 315, 328,\n",
      "            336, 341, 358, 389, 396, 417, 426, 435, 439, 447, 459, 461, 463,\n",
      "            466, 476, 491, 492, 499],\n",
      "           dtype='int64')\n"
     ]
    }
   ],
   "source": [
    "fs_value = lr_model.fs_value()\n",
    "print(lr_model.fs_one())\n",
    "print(lr_model.fs_zero())"
   ]
  },
  {
   "cell_type": "code",
   "execution_count": 6,
   "metadata": {
    "ExecuteTime": {
     "end_time": "2019-02-24T04:03:22.754323Z",
     "start_time": "2019-02-24T04:03:22.556319Z"
    }
   },
   "outputs": [],
   "source": [
    "lr_model.model.writeBestSol(f\"{file_name}.best_sol\")\n",
    "# lr_model.model.readSol(f\"{file_name}.best_sol\")"
   ]
  },
  {
   "cell_type": "code",
   "execution_count": null,
   "metadata": {},
   "outputs": [],
   "source": []
  },
  {
   "cell_type": "code",
   "execution_count": 7,
   "metadata": {
    "ExecuteTime": {
     "end_time": "2019-02-24T04:03:27.644324Z",
     "start_time": "2019-02-24T04:03:22.756325Z"
    }
   },
   "outputs": [
    {
     "data": {
      "text/plain": [
       "6002000"
      ]
     },
     "execution_count": 7,
     "metadata": {},
     "output_type": "execute_result"
    }
   ],
   "source": [
    "import gc\n",
    "del lr_model\n",
    "gc.collect()\n"
   ]
  },
  {
   "cell_type": "code",
   "execution_count": 8,
   "metadata": {
    "ExecuteTime": {
     "end_time": "2019-02-24T04:03:27.660330Z",
     "start_time": "2019-02-24T04:03:27.646318Z"
    }
   },
   "outputs": [],
   "source": [
    "# for i in range(facility_min_size,min(facility_min_size + 10,len(facilities))):\n",
    "#     mip_model = MyModel(Model(\"lr-facility\"),fs_vtype=\"B\",cs_vtype=\"B\")\n",
    "#     mip_model.set_facility_size(i)\n",
    "#     print(i,mip_model.optimize())\n"
   ]
  },
  {
   "cell_type": "code",
   "execution_count": 4,
   "metadata": {
    "ExecuteTime": {
     "end_time": "2019-02-24T05:16:21.072940Z",
     "start_time": "2019-02-24T05:15:56.092875Z"
    }
   },
   "outputs": [
    {
     "ename": "NameError",
     "evalue": "name 'gc' is not defined",
     "output_type": "error",
     "traceback": [
      "\u001b[1;31m---------------------------------------------------------------------------\u001b[0m",
      "\u001b[1;31mNameError\u001b[0m                                 Traceback (most recent call last)",
      "\u001b[1;32m<ipython-input-4-0a7a099f830e>\u001b[0m in \u001b[0;36m<module>\u001b[1;34m()\u001b[0m\n\u001b[0;32m     14\u001b[0m \u001b[1;31m# mip_model.model.setRealParam(\"limits/gap\",0.05)\u001b[0m\u001b[1;33m\u001b[0m\u001b[1;33m\u001b[0m\u001b[0m\n\u001b[0;32m     15\u001b[0m \u001b[0mmip_model\u001b[0m\u001b[1;33m.\u001b[0m\u001b[0mset_min_facility\u001b[0m\u001b[1;33m(\u001b[0m\u001b[0mfacility_min_size\u001b[0m\u001b[1;33m)\u001b[0m\u001b[1;33m\u001b[0m\u001b[0m\n\u001b[1;32m---> 16\u001b[1;33m \u001b[0mgc\u001b[0m\u001b[1;33m.\u001b[0m\u001b[0mcollect\u001b[0m\u001b[1;33m(\u001b[0m\u001b[1;33m)\u001b[0m\u001b[1;33m\u001b[0m\u001b[0m\n\u001b[0m",
      "\u001b[1;31mNameError\u001b[0m: name 'gc' is not defined"
     ]
    }
   ],
   "source": [
    "mip_model = MyModel(Model(\"mip-facility\"),fs_vtype=\"B\",cs_vtype=\"B\")\n",
    "for value in mip_model.fs[[ 1,   2,  20,  28,  59,  71,  79,  80,  83, 101, 102, 122, 126,\n",
    "            174, 199, 204, 212, 245, 262, 281, 286, 291, 303, 304, 315, 328,\n",
    "            336, 341, 358, 389, 396, 417, 426, 435, 439, 447, 459, 461, 463,\n",
    "            466, 476, 491, 492, 499]]:\n",
    "    mip_model.model.fixVar(value,0)\n",
    "# for value in mip_model.fs[fs_value <= 0.0 ]:\n",
    "#     mip_model.model.fixVar(value,0)\n",
    "# for value in mip_model.fs[fs_value >= 1 ]:\n",
    "#     mip_model.model.fixVar(value,1)\n",
    "\n",
    "# mip_model.set_facility_size(facility_min_size)\n",
    "\n",
    "# mip_model.model.setRealParam(\"limits/gap\",0.05)\n",
    "mip_model.set_min_facility(facility_min_size)\n",
    "gc.collect()"
   ]
  },
  {
   "cell_type": "code",
   "execution_count": 7,
   "metadata": {
    "ExecuteTime": {
     "end_time": "2019-02-24T06:32:05.189017Z",
     "start_time": "2019-02-24T06:22:26.824028Z"
    }
   },
   "outputs": [
    {
     "data": {
      "text/plain": [
       "{'status': 'timelimit',\n",
       " 'time': 4229.0,\n",
       " 'total_time': 4569.0,\n",
       " 'obj ': 31737568.99999999,\n",
       " 'cost': 31739247.213276297}"
      ]
     },
     "execution_count": 7,
     "metadata": {},
     "output_type": "execute_result"
    }
   ],
   "source": [
    "mip_model.set_limit_time((10+60)*60)\n",
    "mip_model.optimize()"
   ]
  },
  {
   "cell_type": "code",
   "execution_count": 6,
   "metadata": {
    "ExecuteTime": {
     "end_time": "2019-02-24T06:22:16.020141Z",
     "start_time": "2019-02-24T06:22:15.742065Z"
    }
   },
   "outputs": [],
   "source": [
    "mip_model.model.writeBestSol(f\"{file_name}.mip_best_sol\")\n"
   ]
  },
  {
   "cell_type": "code",
   "execution_count": 12,
   "metadata": {
    "ExecuteTime": {
     "end_time": "2019-02-24T04:37:12.039403Z",
     "start_time": "2019-02-24T04:37:12.034421Z"
    },
    "scrolled": false
   },
   "outputs": [
    {
     "name": "stdout",
     "output_type": "stream",
     "text": [
      "340\n",
      "32860836.071739372\n"
     ]
    }
   ],
   "source": [
    "solution = mip_model.solution\n",
    "used = mip_model.used\n",
    "cost = mip_model.cost\n",
    "print(len(set(solution)))\n",
    "print(mip_model.cost)"
   ]
  },
  {
   "cell_type": "code",
   "execution_count": null,
   "metadata": {
    "ExecuteTime": {
     "end_time": "2019-02-24T04:03:30.786336Z",
     "start_time": "2019-02-24T03:51:54.263Z"
    }
   },
   "outputs": [],
   "source": [
    "file = open(f\"{file_name}.result\",\"w\")\n",
    "output_data = '%.2f' % cost + ' ' + str(0) + '\\n'\n",
    "output_data += ' '.join(map(str, solution))\n",
    "file.write(output_data)\n",
    "file.close()"
   ]
  },
  {
   "cell_type": "code",
   "execution_count": null,
   "metadata": {},
   "outputs": [],
   "source": []
  },
  {
   "cell_type": "code",
   "execution_count": null,
   "metadata": {},
   "outputs": [],
   "source": []
  },
  {
   "cell_type": "code",
   "execution_count": null,
   "metadata": {
    "ExecuteTime": {
     "end_time": "2019-02-24T04:03:30.788330Z",
     "start_time": "2019-02-24T03:51:54.269Z"
    }
   },
   "outputs": [],
   "source": [
    "[ 0,  2,  3,  4,  6, 13, 14, 18, 25, 26, 38, 42, 43, 44, 45, 55, 65,\n",
    "            71, 75, 77, 81, 86, 95, 97, 98]\n",
    "print(mip_model.fs_one())\n",
    "print(mip_model.fs_zero())"
   ]
  },
  {
   "cell_type": "code",
   "execution_count": null,
   "metadata": {},
   "outputs": [],
   "source": [
    "\n",
    "\n",
    "\n",
    "\n",
    "\n",
    "\n",
    "\n",
    "\n",
    "\n"
   ]
  }
 ],
 "metadata": {
  "kernelspec": {
   "display_name": "Python 3",
   "language": "python",
   "name": "python3"
  },
  "language_info": {
   "codemirror_mode": {
    "name": "ipython",
    "version": 3
   },
   "file_extension": ".py",
   "mimetype": "text/x-python",
   "name": "python",
   "nbconvert_exporter": "python",
   "pygments_lexer": "ipython3",
   "version": "3.6.5"
  }
 },
 "nbformat": 4,
 "nbformat_minor": 2
}
