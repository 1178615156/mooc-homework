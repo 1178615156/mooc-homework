{
 "cells": [
  {
   "cell_type": "code",
   "execution_count": 1,
   "metadata": {
    "ExecuteTime": {
     "end_time": "2019-02-23T14:35:52.004543Z",
     "start_time": "2019-02-23T14:35:50.280548Z"
    }
   },
   "outputs": [],
   "source": [
    "%run python_help.py"
   ]
  },
  {
   "cell_type": "code",
   "execution_count": 2,
   "metadata": {
    "ExecuteTime": {
     "end_time": "2019-02-23T14:35:55.753547Z",
     "start_time": "2019-02-23T14:35:54.986556Z"
    }
   },
   "outputs": [
    {
     "data": {
      "text/plain": [
       "7"
      ]
     },
     "execution_count": 2,
     "metadata": {},
     "output_type": "execute_result"
    }
   ],
   "source": [
    "file_name = \"./data/fl_100_1\"\n",
    "input_data = open(file_name).read()\n",
    "facilities,customers = read_data(input_data)\n",
    "\n",
    "customer_cost = gen_customer_cost(facilities,customers)\n",
    "customer_damend = pd.Series(list(map(lambda x:x.demand,customers ))).astype(\"int32\")\n",
    "facility_cost = pd.Series(list(map(lambda x:x.setup_cost,facilities))).astype(\"int32\")\n",
    "facility_capacity = pd.Series(list(map(lambda x:x.capacity,facilities))).astype(\"int32\")\n",
    "facility_size = len(facilities)\n",
    "customer_size = len(customers)\n",
    "facility_min_size = gen_min_facility_size(facilities,customers)\n",
    "facility_min_size"
   ]
  },
  {
   "cell_type": "code",
   "execution_count": 3,
   "metadata": {
    "ExecuteTime": {
     "end_time": "2019-02-23T14:29:59.463003Z",
     "start_time": "2019-02-23T14:29:59.459995Z"
    }
   },
   "outputs": [],
   "source": [
    "# model = Model(\"lr-facility\")\n",
    "# fs_vtype = \"C\"\n",
    "# cs_vtype = \"C\"\n",
    "# fs = facility_cost.map(lambda x: model.addVar(vtype=fs_vtype,lb=0,ub=1))\n",
    "# cs = customer_cost.applymap(lambda x: model.addVar(vtype=cs_vtype,lb=0,ub=1))"
   ]
  },
  {
   "cell_type": "code",
   "execution_count": 4,
   "metadata": {
    "ExecuteTime": {
     "end_time": "2019-02-23T14:29:59.495019Z",
     "start_time": "2019-02-23T14:29:59.465998Z"
    }
   },
   "outputs": [],
   "source": [
    "# objective = quicksum(fs * facility_cost) + quicksum(cs.values.reshape(-1) * customer_cost.astype(\"int32\").values.reshape(-1))"
   ]
  },
  {
   "cell_type": "code",
   "execution_count": 5,
   "metadata": {
    "ExecuteTime": {
     "end_time": "2019-02-23T14:29:59.510017Z",
     "start_time": "2019-02-23T14:29:59.497012Z"
    }
   },
   "outputs": [],
   "source": [
    "# for index,row in cs.iterrows():\n",
    "#     model.addCons(quicksum(row) == 1)\n",
    "#     model.addConsSOS1(row)"
   ]
  },
  {
   "cell_type": "code",
   "execution_count": 6,
   "metadata": {
    "ExecuteTime": {
     "end_time": "2019-02-23T14:29:59.523180Z",
     "start_time": "2019-02-23T14:29:59.511995Z"
    }
   },
   "outputs": [],
   "source": [
    "# for f,fc,c in zip(fs,facility_capacity,cs):\n",
    "#     damend = quicksum(cs[c] * customer_damend)\n",
    "#     model.addCons(damend <= f * fc )"
   ]
  },
  {
   "cell_type": "code",
   "execution_count": 7,
   "metadata": {
    "ExecuteTime": {
     "end_time": "2019-02-23T14:30:00.044767Z",
     "start_time": "2019-02-23T14:30:00.041759Z"
    }
   },
   "outputs": [],
   "source": [
    "# model.setObjective(objective)\n",
    "# model.setRealParam(\"limits/time\", 30)"
   ]
  },
  {
   "cell_type": "code",
   "execution_count": 8,
   "metadata": {
    "ExecuteTime": {
     "end_time": "2019-02-23T14:30:00.477737Z",
     "start_time": "2019-02-23T14:30:00.473736Z"
    }
   },
   "outputs": [],
   "source": [
    "# model.optimize()"
   ]
  },
  {
   "cell_type": "code",
   "execution_count": 3,
   "metadata": {
    "ExecuteTime": {
     "end_time": "2019-02-23T14:35:59.735586Z",
     "start_time": "2019-02-23T14:35:59.728547Z"
    }
   },
   "outputs": [],
   "source": [
    "def takeVar(l):return list(filter(lambda x:type is Variable,l))\n",
    "\n",
    "class MyModel(ModelHelp):\n",
    "    def __init__(self,model,fs_vtype,cs_vtype):\n",
    "        \n",
    "        fs = facility_cost.map(lambda x: model.addVar(vtype=fs_vtype,lb=0,ub=1))\n",
    "        cs = customer_cost.applymap(lambda x: model.addVar(vtype=cs_vtype,lb=0,ub=1))\n",
    "        \n",
    "        objective = quicksum(fs * facility_cost) + quicksum(cs.values.reshape(-1) * customer_cost.astype(\"int32\").values.reshape(-1))\n",
    "#         objective = quicksum(cs.values.reshape(-1) * customer_cost.astype(\"int32\").values.reshape(-1))\n",
    "        for index,row in cs.iterrows():\n",
    "            model.addCons(quicksum(row) == 1)\n",
    "            \n",
    "        for f,fc,c in zip(fs,facility_capacity,cs):\n",
    "            damend = quicksum(cs[c] * customer_damend)\n",
    "            model.addCons(damend <= f * fc )\n",
    "            \n",
    "        model.setObjective(objective)\n",
    "        self.model = model \n",
    "        self.objective = objective\n",
    "        self.fs = fs\n",
    "        self.cs = cs\n",
    "        self.facilities = facilities\n",
    "        self.customers = customers"
   ]
  },
  {
   "cell_type": "code",
   "execution_count": 4,
   "metadata": {
    "ExecuteTime": {
     "end_time": "2019-02-23T14:25:37.277883Z",
     "start_time": "2019-02-23T14:25:29.254841Z"
    }
   },
   "outputs": [
    {
     "data": {
      "text/plain": [
       "{'status': 'optimal',\n",
       " 'time': 6.0,\n",
       " 'total_time': 8.0,\n",
       " 'obj ': 19328802.3075,\n",
       " 'cost': 136385786.83011374}"
      ]
     },
     "execution_count": 4,
     "metadata": {},
     "output_type": "execute_result"
    }
   ],
   "source": [
    "lr_model = MyModel(Model(\"lr-facility\"),fs_vtype=\"C\",cs_vtype=\"B\")\n",
    "lr_model.set_min_facility(facility_min_size)\n",
    "lr_model.set_limit_time(300)\n",
    "lr_model.optimize()"
   ]
  },
  {
   "cell_type": "code",
   "execution_count": 5,
   "metadata": {
    "ExecuteTime": {
     "end_time": "2019-02-23T14:25:43.350978Z",
     "start_time": "2019-02-23T14:25:43.341981Z"
    },
    "scrolled": true
   },
   "outputs": [
    {
     "name": "stdout",
     "output_type": "stream",
     "text": [
      "Int64Index([], dtype='int64')\n",
      "Int64Index([ 0,  2,  3,  4,  6, 13, 14, 18, 25, 26, 38, 42, 43, 44, 45, 55, 65,\n",
      "            71, 75, 77, 81, 86, 95, 97, 98],\n",
      "           dtype='int64')\n"
     ]
    }
   ],
   "source": [
    "fs_value = lr_model.fs_value()\n",
    "print(lr_model.fs_one())\n",
    "print(lr_model.fs_zero())"
   ]
  },
  {
   "cell_type": "code",
   "execution_count": 6,
   "metadata": {
    "ExecuteTime": {
     "end_time": "2019-02-23T14:25:48.949809Z",
     "start_time": "2019-02-23T14:25:48.458802Z"
    }
   },
   "outputs": [
    {
     "data": {
      "text/plain": [
       "400400"
      ]
     },
     "execution_count": 6,
     "metadata": {},
     "output_type": "execute_result"
    }
   ],
   "source": [
    "import gc\n",
    "del lr_model\n",
    "gc.collect()\n"
   ]
  },
  {
   "cell_type": "code",
   "execution_count": 7,
   "metadata": {
    "ExecuteTime": {
     "end_time": "2019-02-23T14:25:51.008353Z",
     "start_time": "2019-02-23T14:25:51.004355Z"
    }
   },
   "outputs": [],
   "source": [
    "# for i in range(facility_min_size,min(facility_min_size + 10,len(facilities))):\n",
    "#     mip_model = MyModel(Model(\"lr-facility\"),fs_vtype=\"B\",cs_vtype=\"B\")\n",
    "#     mip_model.set_facility_size(i)\n",
    "#     print(i,mip_model.optimize())\n"
   ]
  },
  {
   "cell_type": "code",
   "execution_count": null,
   "metadata": {
    "ExecuteTime": {
     "start_time": "2019-02-23T14:36:19.345Z"
    }
   },
   "outputs": [],
   "source": [
    "mip_model = MyModel(Model(\"mip-facility\"),fs_vtype=\"B\",cs_vtype=\"B\")\n",
    "# for value in mip_model.fs[fs_value <= 0.0 ]:\n",
    "#     mip_model.model.fixVar(value,0)\n",
    "# for value in mip_model.fs[fs_value >= 1 ]:\n",
    "#     mip_model.model.fixVar(value,1)\n",
    "mip_model.set_facility_size(facility_min_size+1)\n",
    "\n",
    "# mip_model.set_min_facility(facility_min_size)\n",
    "# mip_model.set_max_facility(facility_min_size + 0)\n",
    "# mip_model.set_limit_time(30*60)\n",
    "mip_model.optimize()"
   ]
  },
  {
   "cell_type": "code",
   "execution_count": null,
   "metadata": {},
   "outputs": [],
   "source": []
  },
  {
   "cell_type": "code",
   "execution_count": 19,
   "metadata": {
    "ExecuteTime": {
     "end_time": "2019-02-23T14:12:40.002160Z",
     "start_time": "2019-02-23T14:12:39.998192Z"
    },
    "scrolled": false
   },
   "outputs": [
    {
     "name": "stdout",
     "output_type": "stream",
     "text": [
      "34513163.41140954\n"
     ]
    }
   ],
   "source": [
    "solution = mip_model.solution\n",
    "used = mip_model.used\n",
    "cost = mip_model.cost\n",
    "print(mip_model.cost)"
   ]
  },
  {
   "cell_type": "code",
   "execution_count": 18,
   "metadata": {
    "ExecuteTime": {
     "end_time": "2019-02-23T14:11:42.964134Z",
     "start_time": "2019-02-23T14:11:42.959133Z"
    }
   },
   "outputs": [],
   "source": [
    "file = open(\"fl_500_7.result\",\"w\")\n"
   ]
  },
  {
   "cell_type": "code",
   "execution_count": 20,
   "metadata": {
    "ExecuteTime": {
     "end_time": "2019-02-23T14:12:43.180092Z",
     "start_time": "2019-02-23T14:12:43.175127Z"
    }
   },
   "outputs": [],
   "source": [
    "output_data = '%.2f' % cost + ' ' + str(0) + '\\n'\n",
    "output_data += ' '.join(map(str, solution))"
   ]
  },
  {
   "cell_type": "code",
   "execution_count": 21,
   "metadata": {
    "ExecuteTime": {
     "end_time": "2019-02-23T14:12:59.564467Z",
     "start_time": "2019-02-23T14:12:59.551458Z"
    }
   },
   "outputs": [],
   "source": [
    "file.write(output_data)\n",
    "file.close()"
   ]
  },
  {
   "cell_type": "code",
   "execution_count": null,
   "metadata": {},
   "outputs": [],
   "source": [
    "\n",
    "\n",
    "\n",
    "\n",
    "\n",
    "\n",
    "\n",
    "\n",
    "\n"
   ]
  }
 ],
 "metadata": {
  "kernelspec": {
   "display_name": "Python 3",
   "language": "python",
   "name": "python3"
  },
  "language_info": {
   "codemirror_mode": {
    "name": "ipython",
    "version": 3
   },
   "file_extension": ".py",
   "mimetype": "text/x-python",
   "name": "python",
   "nbconvert_exporter": "python",
   "pygments_lexer": "ipython3",
   "version": "3.6.5"
  }
 },
 "nbformat": 4,
 "nbformat_minor": 2
}
