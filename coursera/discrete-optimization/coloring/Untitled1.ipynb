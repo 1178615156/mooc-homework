{
 "cells": [
  {
   "cell_type": "code",
   "execution_count": 35,
   "metadata": {},
   "outputs": [],
   "source": [
    "import numpy as np \n",
    "import pandas as pd \n",
    "from pyscipopt import Model,quickprod,quicksum\n",
    "from functools import reduce"
   ]
  },
  {
   "cell_type": "code",
   "execution_count": 48,
   "metadata": {},
   "outputs": [],
   "source": [
    "model = Model(\"color\")\n",
    "edges = np.array([\n",
    "    [0,1],\n",
    "    [1,2],\n",
    "    [1,3]\n",
    "])\n",
    "node_count = 4\n",
    "color_size = 2\n",
    "\n",
    "values = [\n",
    "    model.addVar(\"%s-%s\" %(i,j),vtype=\"B\")\n",
    "    for i in range(node_count)\n",
    "    for j in range(color_size)\n",
    "]\n",
    "values = np.array(values).reshape((node_count,color_size))\n",
    "\n",
    "for row in values:\n",
    "    model.addCons(row.sum() == 1)\n",
    "    \n",
    "for edge in edges:\n",
    "    f = values[edge[0]]\n",
    "    t = values[edge[1]]\n",
    "    model.addCons((f * t).sum() ==  0)\n"
   ]
  },
  {
   "cell_type": "code",
   "execution_count": 56,
   "metadata": {},
   "outputs": [
    {
     "data": {
      "text/plain": [
       "'optimal'"
      ]
     },
     "execution_count": 56,
     "metadata": {},
     "output_type": "execute_result"
    }
   ],
   "source": [
    "model.optimize()\n",
    "model.getStatus()"
   ]
  },
  {
   "cell_type": "code",
   "execution_count": 57,
   "metadata": {},
   "outputs": [],
   "source": [
    "nodes = pd.DataFrame(values).applymap(model.getVal).values.argmax(axis=1)"
   ]
  },
  {
   "cell_type": "code",
   "execution_count": 59,
   "metadata": {},
   "outputs": [
    {
     "data": {
      "text/plain": [
       "0    0\n",
       "1    1\n",
       "2    0\n",
       "3    0\n",
       "dtype: int64"
      ]
     },
     "execution_count": 59,
     "metadata": {},
     "output_type": "execute_result"
    }
   ],
   "source": []
  }
 ],
 "metadata": {
  "kernelspec": {
   "display_name": "Python 3",
   "language": "python",
   "name": "python3"
  },
  "language_info": {
   "codemirror_mode": {
    "name": "ipython",
    "version": 3
   },
   "file_extension": ".py",
   "mimetype": "text/x-python",
   "name": "python",
   "nbconvert_exporter": "python",
   "pygments_lexer": "ipython3",
   "version": "3.6.5"
  }
 },
 "nbformat": 4,
 "nbformat_minor": 2
}
