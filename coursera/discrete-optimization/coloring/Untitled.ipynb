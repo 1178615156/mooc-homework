{
 "cells": [
  {
   "cell_type": "code",
   "execution_count": 6,
   "metadata": {},
   "outputs": [],
   "source": [
    "import numpy as np \n",
    "import pandas as pd \n",
    "from pyscipopt import Model"
   ]
  },
  {
   "cell_type": "code",
   "execution_count": 17,
   "metadata": {},
   "outputs": [],
   "source": [
    "\n",
    "\n",
    "def model_optimize(edges,node_count,color_size):\n",
    "    model = Model(\"color\")\n",
    "    nodes = pd.Series(range(node_count)).map(lambda x: model.addVar(str(x),vtype=\"INTEGER\",lb=0,ub=color_size) )\n",
    "    for edge in edges:\n",
    "        f = nodes[edge[0]]\n",
    "        t = nodes[edge[1]]\n",
    "        cons = abs(f - t) >=1\n",
    "        cons = (f - t) * (t - f) <= -1\n",
    "        model.addCons(cons)\n",
    "    model.optimize()\n",
    "    # objective = nodes.sum()\n",
    "    # model.setObjective(objective)\n",
    "    # model.setMinimize()\n",
    "    return model,nodes"
   ]
  },
  {
   "cell_type": "code",
   "execution_count": 18,
   "metadata": {},
   "outputs": [
    {
     "name": "stdout",
     "output_type": "stream",
     "text": [
      "ExprCons(Expr({Term(0, 1): 2.0, Term(0, 0): -1.0, Term(1, 1): -1.0}), None, -1.0)\n",
      "ExprCons(Expr({Term(2, 1): 2.0, Term(1, 1): -1.0, Term(2, 2): -1.0}), None, -1.0)\n",
      "ExprCons(Expr({Term(3, 1): 2.0, Term(1, 1): -1.0, Term(3, 3): -1.0}), None, -1.0)\n"
     ]
    }
   ],
   "source": [
    "edges = np.array([\n",
    "    [0,1],\n",
    "    [1,2],\n",
    "    [1,3]\n",
    "])\n",
    "node_count = 4 \n",
    "i = 2\n",
    "model,nodes = model_optimize(edges,node_count,i)"
   ]
  },
  {
   "cell_type": "code",
   "execution_count": null,
   "metadata": {},
   "outputs": [],
   "source": [
    "model.setIntParam(100)"
   ]
  },
  {
   "cell_type": "code",
   "execution_count": 19,
   "metadata": {},
   "outputs": [
    {
     "data": {
      "text/plain": [
       "['0', '1', '0', '0']"
      ]
     },
     "execution_count": 19,
     "metadata": {},
     "output_type": "execute_result"
    }
   ],
   "source": [
    "result = nodes.map( model.getVal ).map(int).map(str)\n",
    "result.tolist()"
   ]
  },
  {
   "cell_type": "code",
   "execution_count": null,
   "metadata": {},
   "outputs": [],
   "source": []
  }
 ],
 "metadata": {
  "kernelspec": {
   "display_name": "Python 3",
   "language": "python",
   "name": "python3"
  },
  "language_info": {
   "codemirror_mode": {
    "name": "ipython",
    "version": 3
   },
   "file_extension": ".py",
   "mimetype": "text/x-python",
   "name": "python",
   "nbconvert_exporter": "python",
   "pygments_lexer": "ipython3",
   "version": "3.6.5"
  }
 },
 "nbformat": 4,
 "nbformat_minor": 2
}
