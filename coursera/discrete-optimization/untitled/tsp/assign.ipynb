{
 "cells": [
  {
   "cell_type": "code",
   "execution_count": 1,
   "metadata": {
    "ExecuteTime": {
     "end_time": "2019-02-13T13:17:54.323674Z",
     "start_time": "2019-02-13T13:17:47.932282Z"
    }
   },
   "outputs": [
    {
     "name": "stdout",
     "output_type": "stream",
     "text": [
      "0.38.0\n"
     ]
    }
   ],
   "source": [
    "import numpy as np\n",
    "import pandas as pd\n",
    "from pyscipopt import Model\n",
    "from model import *\n",
    "import random\n",
    "import networkx as nx\n",
    "import matplotlib.pyplot as plt"
   ]
  },
  {
   "cell_type": "code",
   "execution_count": 2,
   "metadata": {
    "ExecuteTime": {
     "end_time": "2019-02-13T13:17:54.330602Z",
     "start_time": "2019-02-13T13:17:54.325601Z"
    }
   },
   "outputs": [],
   "source": [
    "input_data = open(\"./data/tsp_51_1\").read()\n",
    "lines = input_data.split('\\n')\n",
    "\n",
    "nodeCount = int(lines[0])\n",
    "\n",
    "points = []\n",
    "for i in range(1, nodeCount+1):\n",
    "    line = lines[i]\n",
    "    parts = line.split()\n",
    "    points.append(Point(float(parts[0]), float(parts[1])))\n"
   ]
  },
  {
   "cell_type": "code",
   "execution_count": 3,
   "metadata": {
    "ExecuteTime": {
     "end_time": "2019-02-13T13:17:54.489658Z",
     "start_time": "2019-02-13T13:17:54.333600Z"
    },
    "scrolled": true
   },
   "outputs": [],
   "source": [
    "# nodeCount = 6\n",
    "cost_matrix = np.zeros((nodeCount,nodeCount))\n",
    "for i in range(nodeCount):\n",
    "    for j in range(i,nodeCount):\n",
    "        cost_matrix[i,j] = length(points[i],points[j])\n",
    "#             cost_matrix[i,j] = random.random()\n",
    "cost_matrix = pd.DataFrame(cost_matrix)\n",
    "cost_matrix = cost_matrix + cost_matrix.transpose()\n",
    "# cost_matrix"
   ]
  },
  {
   "cell_type": "code",
   "execution_count": 13,
   "metadata": {
    "ExecuteTime": {
     "end_time": "2019-02-13T13:27:56.554050Z",
     "start_time": "2019-02-13T13:27:56.166054Z"
    },
    "scrolled": false
   },
   "outputs": [],
   "source": [
    "model = Model(\"tsp\")\n",
    "model.hideOutput()\n",
    "xs = cost_matrix.applymap(lambda x: model.addVar(vtype=\"B\"))\n",
    "us = pd.Series(range(nodeCount)).map(lambda x: model.addVar(lb=0,ub=nodeCount,vtype=\"I\") )\n",
    "\n",
    "for index,row in  xs.iterrows():\n",
    "    model.addCons(row.sum() == 1)\n",
    "for index,col in  xs.iteritems():\n",
    "    model.addCons(col.sum() ==1)\n",
    "# for n in range(nodeCount):\n",
    "#     model.addCons(xs[n][n] == 0)\n",
    "    \n",
    "# (xs + xs.transpose()).applymap(lambda const: model.addCons(const <=1))\n",
    "for i in range(nodeCount):\n",
    "    for j in range(nodeCount):\n",
    "        if i > j:\n",
    "            model.addCons(xs[j][i] + xs[i][j] <=1)\n",
    "        if i == j:\n",
    "            model.addCons(xs[i][j] == 0)\n",
    "        if 0 < i and i != j :\n",
    "            model.addCons(us[i] - us[j] + nodeCount * xs[i][j] <= nodeCount - 1)\n",
    "            \n",
    "objective = (xs * cost_matrix).sum().sum()\n",
    "model.setObjective(objective)\n",
    "model.setMinimize()\n",
    "\n"
   ]
  },
  {
   "cell_type": "code",
   "execution_count": 14,
   "metadata": {
    "ExecuteTime": {
     "end_time": "2019-02-13T13:28:28.004054Z",
     "start_time": "2019-02-13T13:27:58.048069Z"
    }
   },
   "outputs": [
    {
     "name": "stdout",
     "output_type": "stream",
     "text": [
      "{'status': 'timelimit', 'obj': 469.71680372474054, 'time': 32.0}\n"
     ]
    }
   ],
   "source": [
    "model.setRealParam(\"limits/time\", 30)\n",
    "model.optimize()\n",
    "print({\n",
    "    \"status\":model.getStatus(),\n",
    "    \"obj\": model.getObjVal(),\n",
    "    \"time\": model.getTotalTime()\n",
    "})"
   ]
  },
  {
   "cell_type": "code",
   "execution_count": 6,
   "metadata": {
    "ExecuteTime": {
     "end_time": "2019-02-13T13:18:04.049631Z",
     "start_time": "2019-02-13T13:18:04.011601Z"
    }
   },
   "outputs": [
    {
     "name": "stdout",
     "output_type": "stream",
     "text": [
      "51\n"
     ]
    }
   ],
   "source": [
    "result = xs.applymap( model.getVal )\n",
    "route = np.argmax(result.values,axis=1)\n",
    "print(len((route)))"
   ]
  },
  {
   "cell_type": "code",
   "execution_count": 7,
   "metadata": {
    "ExecuteTime": {
     "end_time": "2019-02-13T13:18:04.290628Z",
     "start_time": "2019-02-13T13:18:04.052622Z"
    }
   },
   "outputs": [
    {
     "data": {
      "image/png": "[encoded data removed]",
      "text/plain": [
       "<Figure size 432x288 with 1 Axes>"
      ]
     },
     "metadata": {},
     "output_type": "display_data"
    }
   ],
   "source": [
    "G = nx.empty_graph()\n",
    "G.add_edges_from(list(zip(range(nodeCount),route)))\n",
    "nx.draw_networkx(G)\n",
    "plt.show()"
   ]
  },
  {
   "cell_type": "code",
   "execution_count": 8,
   "metadata": {
    "ExecuteTime": {
     "end_time": "2019-02-13T13:18:04.301600Z",
     "start_time": "2019-02-13T13:18:04.292629Z"
    },
    "scrolled": true
   },
   "outputs": [
    {
     "data": {
      "text/plain": [
       "[32,\n",
       " 48,\n",
       " 17,\n",
       " 49,\n",
       " 31,\n",
       " 22,\n",
       " 1,\n",
       " 25,\n",
       " 20,\n",
       " 37,\n",
       " 21,\n",
       " 29,\n",
       " 43,\n",
       " 39,\n",
       " 50,\n",
       " 38,\n",
       " 15,\n",
       " 14,\n",
       " 44,\n",
       " 16,\n",
       " 11,\n",
       " 42,\n",
       " 18,\n",
       " 40,\n",
       " 19,\n",
       " 7,\n",
       " 13,\n",
       " 35,\n",
       " 23,\n",
       " 30,\n",
       " 12,\n",
       " 36,\n",
       " 6,\n",
       " 26,\n",
       " 47,\n",
       " 27,\n",
       " 41,\n",
       " 24,\n",
       " 34,\n",
       " 4,\n",
       " 8,\n",
       " 46,\n",
       " 3,\n",
       " 45,\n",
       " 9,\n",
       " 10,\n",
       " 28,\n",
       " 2,\n",
       " 5,\n",
       " 33,\n",
       " 0]"
      ]
     },
     "execution_count": 8,
     "metadata": {},
     "output_type": "execute_result"
    }
   ],
   "source": [
    "start = 0\n",
    "solution = []\n",
    "for i in range(nodeCount):\n",
    "    start = route[start]\n",
    "    solution.append(start)\n",
    "solution"
   ]
  },
  {
   "cell_type": "code",
   "execution_count": null,
   "metadata": {},
   "outputs": [],
   "source": []
  },
  {
   "cell_type": "code",
   "execution_count": null,
   "metadata": {},
   "outputs": [],
   "source": []
  }
 ],
 "metadata": {
  "kernelspec": {
   "display_name": "Python 3",
   "language": "python",
   "name": "python3"
  },
  "language_info": {
   "codemirror_mode": {
    "name": "ipython",
    "version": 3
   },
   "file_extension": ".py",
   "mimetype": "text/x-python",
   "name": "python",
   "nbconvert_exporter": "python",
   "pygments_lexer": "ipython3",
   "version": "3.6.5"
  }
 },
 "nbformat": 4,
 "nbformat_minor": 2
}
