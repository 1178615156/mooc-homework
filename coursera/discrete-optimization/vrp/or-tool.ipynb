{
 "cells": [
  {
   "cell_type": "code",
   "execution_count": 1,
   "metadata": {
    "ExecuteTime": {
     "end_time": "2019-02-24T09:08:20.941011Z",
     "start_time": "2019-02-24T09:08:18.941930Z"
    }
   },
   "outputs": [],
   "source": [
    "import math\n",
    "import pandas as pd \n",
    "import numpy as np \n",
    "from collections import namedtuple\n",
    "from dataclasses import dataclass\n",
    "from numba import jit,njit\n",
    "\n",
    "from __future__ import print_function\n",
    "from ortools.constraint_solver import pywrapcp\n",
    "from ortools.constraint_solver import routing_enums_pb2\n",
    "\n",
    "@dataclass(frozen=True,eq=True)\n",
    "class Customer:\n",
    "    index:int\n",
    "    demand:int\n",
    "    x:float\n",
    "    y:float\n",
    "        \n",
    "@njit\n",
    "def length_xy(x1,y1,x2,y2):\n",
    "    return math.sqrt((x1-x2)*(x1-x2) + (y1-y2)*(y1-y2))\n",
    "\n",
    "def length(point1, point2):\n",
    "    return length_xy(point1.x,point1.y,point2.x,point2.y)"
   ]
  },
  {
   "cell_type": "code",
   "execution_count": 2,
   "metadata": {
    "ExecuteTime": {
     "end_time": "2019-02-24T09:08:20.951934Z",
     "start_time": "2019-02-24T09:08:20.943929Z"
    }
   },
   "outputs": [],
   "source": [
    "def read_data(input_data):\n",
    "    lines = input_data.split('\\n')\n",
    "\n",
    "    parts = lines[0].split()\n",
    "    customer_count = int(parts[0])\n",
    "    vehicle_count = int(parts[1])\n",
    "    vehicle_capacity = int(parts[2])\n",
    "    \n",
    "    customers = []\n",
    "    for i in range(1, customer_count+1):\n",
    "        line = lines[i]\n",
    "        parts = line.split()\n",
    "        customers.append(Customer(i-1, int(parts[0]), float(parts[1]), float(parts[2])))\n",
    "    depot = customers[0]\n",
    "    return customers,customer_count,vehicle_count,vehicle_capacity,depot\n",
    "file_name = \"./data/vrp_16_3_1\"\n",
    "input_data = open(file_name).read()\n",
    "customers,customer_count,vehicle_count,vehicle_capacity,depot = read_data(input_data)"
   ]
  },
  {
   "cell_type": "code",
   "execution_count": 3,
   "metadata": {
    "ExecuteTime": {
     "end_time": "2019-02-24T09:08:20.971940Z",
     "start_time": "2019-02-24T09:08:20.955930Z"
    }
   },
   "outputs": [],
   "source": [
    "customer_demands = list(map(lambda x:x.demand,customers))\n",
    "vehicle_capacities = [vehicle_capacity] * vehicle_count"
   ]
  },
  {
   "cell_type": "code",
   "execution_count": 4,
   "metadata": {
    "ExecuteTime": {
     "end_time": "2019-02-24T09:08:21.638957Z",
     "start_time": "2019-02-24T09:08:20.973929Z"
    }
   },
   "outputs": [],
   "source": [
    "distances_matrix = np.zeros((customer_count,customer_count))\n",
    "for i in range(customer_count):\n",
    "    for j in range(customer_count):\n",
    "        distances_matrix[i,j] = length(customers[i],customers[j]) * 100\n",
    "# distances_matrix = distances_matrix.astype(\"int32\")\n",
    "distances_matrix = np.around(distances_matrix)\n",
    "# distances_matrix = np.ceil(distances_matrix)"
   ]
  },
  {
   "cell_type": "code",
   "execution_count": 5,
   "metadata": {
    "ExecuteTime": {
     "end_time": "2019-02-24T09:08:21.643936Z",
     "start_time": "2019-02-24T09:08:21.640934Z"
    }
   },
   "outputs": [],
   "source": [
    "pywrapcp.RoutingModel.__doc__"
   ]
  },
  {
   "cell_type": "code",
   "execution_count": 6,
   "metadata": {
    "ExecuteTime": {
     "end_time": "2019-02-24T09:08:21.663930Z",
     "start_time": "2019-02-24T09:08:21.645929Z"
    }
   },
   "outputs": [],
   "source": [
    "@njit\n",
    "def distance_callback(f,t): return distances_matrix[f,t]\n",
    "def demand_callback(f,t): return customer_demands[f]"
   ]
  },
  {
   "cell_type": "code",
   "execution_count": 7,
   "metadata": {
    "ExecuteTime": {
     "end_time": "2019-02-24T09:08:21.681934Z",
     "start_time": "2019-02-24T09:08:21.665934Z"
    }
   },
   "outputs": [
    {
     "data": {
      "text/plain": [
       "True"
      ]
     },
     "execution_count": 7,
     "metadata": {},
     "output_type": "execute_result"
    }
   ],
   "source": [
    "routing = pywrapcp.RoutingModel(customer_count,vehicle_count,depot.index)\n",
    "routing.SetArcCostEvaluatorOfAllVehicles(distance_callback)\n",
    "routing.AddDimensionWithVehicleCapacity(demand_callback,0,vehicle_capacities,True,\"Capacity\")"
   ]
  },
  {
   "cell_type": "code",
   "execution_count": 8,
   "metadata": {
    "ExecuteTime": {
     "end_time": "2019-02-24T09:08:21.751930Z",
     "start_time": "2019-02-24T09:08:21.684952Z"
    },
    "scrolled": false
   },
   "outputs": [],
   "source": [
    "search_parameters = pywrapcp.RoutingModel.DefaultSearchParameters()\n",
    "search_parameters.first_solution_strategy = routing_enums_pb2.FirstSolutionStrategy.PATH_CHEAPEST_ARC\n",
    "search_parameters.lns_time_limit_ms = 100\n",
    "search_parameters.optimization_step = 1\n",
    "assignment = routing.SolveWithParameters(search_parameters)\n",
    "# print(assignment)"
   ]
  },
  {
   "cell_type": "code",
   "execution_count": 11,
   "metadata": {
    "ExecuteTime": {
     "end_time": "2019-02-24T09:08:46.327449Z",
     "start_time": "2019-02-24T09:08:46.321453Z"
    }
   },
   "outputs": [
    {
     "data": {
      "text/plain": [
       "first_solution_strategy: PATH_CHEAPEST_ARC\n",
       "use_filtered_first_solution_strategy: true\n",
       "local_search_operators {\n",
       "  use_relocate: true\n",
       "  use_relocate_pair: true\n",
       "  use_exchange: true\n",
       "  use_cross: true\n",
       "  use_two_opt: true\n",
       "  use_or_opt: true\n",
       "  use_lin_kernighan: true\n",
       "  use_make_active: true\n",
       "  use_make_inactive: true\n",
       "  use_swap_active: true\n",
       "  use_node_pair_swap_active: true\n",
       "}\n",
       "guided_local_search_lambda_coefficient: 0.1\n",
       "optimization_step: 1\n",
       "solution_limit: 9223372036854775807\n",
       "time_limit_ms: 9223372036854775807\n",
       "lns_time_limit_ms: 100\n",
       "use_light_propagation: true\n",
       "fingerprint_arc_cost_evaluators: true"
      ]
     },
     "execution_count": 11,
     "metadata": {},
     "output_type": "execute_result"
    }
   ],
   "source": [
    "search_parameters"
   ]
  },
  {
   "cell_type": "code",
   "execution_count": 9,
   "metadata": {
    "ExecuteTime": {
     "end_time": "2019-02-24T09:08:25.637783Z",
     "start_time": "2019-02-24T09:08:25.627780Z"
    }
   },
   "outputs": [
    {
     "name": "stdout",
     "output_type": "stream",
     "text": [
      "0 : 0 2 3 8 7  0\n",
      "Distance of the route: 9788m\n",
      "Load of the route: 88\n",
      "\n",
      "1 : 0 6 14 13 4 15 10  0\n",
      "Distance of the route: 11811m\n",
      "Load of the route: 83\n",
      "\n",
      "2 : 0 1 11 9 5 12  0\n",
      "Distance of the route: 6843m\n",
      "Load of the route: 87\n",
      "\n",
      "Total Distance of all routes: 28442m\n"
     ]
    }
   ],
   "source": [
    "def print_solution(routing, assignment):\n",
    "    \"\"\"Print routes on console.\"\"\"\n",
    "    total_dist = 0\n",
    "    result = \"\"\n",
    "    for vehicle_id in range(vehicle_count):\n",
    "        index = routing.Start(vehicle_id)\n",
    "        plan_output = \"\"\n",
    "        route_dist = 0\n",
    "        route_load = 0\n",
    "        while not routing.IsEnd(index):\n",
    "            node_index = routing.IndexToNode(index)\n",
    "            next_node_index = routing.IndexToNode(assignment.Value(routing.NextVar(index)))\n",
    "            route_dist += routing.GetArcCostForVehicle(node_index, next_node_index, vehicle_id)\n",
    "            route_load += customer_demands[node_index]\n",
    "            plan_output += '{0} ' .format(node_index)\n",
    "            index = assignment.Value(routing.NextVar(index))\n",
    "\n",
    "        node_index = routing.IndexToNode(index)\n",
    "        total_dist += route_dist\n",
    "        plan_output += ' {0}\\n'.format(node_index, route_load)\n",
    "        \n",
    "        result += plan_output\n",
    "        plan_output =  f\"{vehicle_id} : \" + plan_output\n",
    "        plan_output += 'Distance of the route: {0}m\\n'.format(route_dist)\n",
    "        plan_output += 'Load of the route: {0}\\n'.format(route_load)\n",
    "        print(plan_output)\n",
    "    print('Total Distance of all routes: {0}m'.format(total_dist))\n",
    "    return f\"{total_dist} 0\\n\" + result \n",
    "result = print_solution(routing,assignment)"
   ]
  },
  {
   "cell_type": "code",
   "execution_count": 47,
   "metadata": {
    "ExecuteTime": {
     "end_time": "2019-02-24T08:49:29.116203Z",
     "start_time": "2019-02-24T08:49:29.108202Z"
    }
   },
   "outputs": [],
   "source": [
    "result_file = open(f\"{file_name}.result\",\"w\")\n",
    "result_file.write(result)\n",
    "result_file.close()"
   ]
  },
  {
   "cell_type": "code",
   "execution_count": null,
   "metadata": {},
   "outputs": [],
   "source": []
  },
  {
   "cell_type": "code",
   "execution_count": null,
   "metadata": {},
   "outputs": [],
   "source": []
  },
  {
   "cell_type": "code",
   "execution_count": null,
   "metadata": {},
   "outputs": [],
   "source": [
    "\n",
    "\n",
    "\n",
    "\n",
    "\n",
    "\n",
    "\n",
    "\n",
    "\n",
    "\n",
    "\n",
    "\n",
    "\n",
    "\n",
    "\n",
    "\n",
    "\n",
    "\n",
    "\n",
    "\n",
    "\n",
    "\n",
    "\n",
    "\n",
    "\n",
    "\n",
    "\n"
   ]
  }
 ],
 "metadata": {
  "kernelspec": {
   "display_name": "Python 3",
   "language": "python",
   "name": "python3"
  },
  "language_info": {
   "codemirror_mode": {
    "name": "ipython",
    "version": 3
   },
   "file_extension": ".py",
   "mimetype": "text/x-python",
   "name": "python",
   "nbconvert_exporter": "python",
   "pygments_lexer": "ipython3",
   "version": "3.6.5"
  }
 },
 "nbformat": 4,
 "nbformat_minor": 2
}
