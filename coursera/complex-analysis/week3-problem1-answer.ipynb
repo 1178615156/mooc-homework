{
 "cells": [
  {
   "cell_type": "markdown",
   "metadata": {},
   "source": [
    "\n",
    "$ z = x + y i$  \n",
    "$ U = \\{z \\in C | \\frac{-\\pi}{2} <Re z< \\frac{\\pi}{2}   \\} $\n",
    "$sin(z) = sin(x)cosh(y) + i cos(x)sinh(y)$\n",
    "---\n",
    "### 1 \n",
    " *because* $L_1 = ( -\\frac{\\pi}{2},\\frac{\\pi}{2} )$(on the real axis)\n",
    "- $ \\mapsto x \\in (-\\frac{\\pi}{2},\\frac{\\pi}{2}) $ and $ y =0 $  \n",
    "- $ \\mapsto sin(z) = sin(x)cosh(0) + i cos(x) sinh(0) $\n",
    "\n",
    "*because* $ cosh(0)=1$ and $sinh(0) = 0$  \n",
    "- $ \\mapsto sin(z) = sin(x) $\n",
    "\n",
    "*because* $sin(x) \\in (-1,1)$ when $x \\in (-\\frac{\\pi}{2},\\frac{\\pi}{2}) $\n",
    "- $\\mapsto sin(z) \\in (-1,1) $ when $z$ in $L_1$\n",
    "---\n",
    "\n",
    "### 2\n",
    "*because* $L_2 = \\{iy|y\\in R\\}$\n",
    "- $\\mapsto x=0$ and $y \\in R$\n",
    "- $\\mapsto sin(z) = sin(0)cosh(y) + i cos(0)sinh(y)$\n",
    "- $\\mapsto sin(z) = i \\:sinh(y)$\n",
    "\n",
    "*because* $\\sinh(y) \\in (-\\infty,+\\infty)$ when $y \\in R$ \n",
    "- $\\mapsto \\sin(z) \\in \\{iy|y\\in R\\}$ when $z$ in $L_2$\n",
    "---\n",
    "\n",
    "### 3\n",
    "*because* $L_3 = \\{-\\frac{\\pi}{2}+iy\\ | y \\in R \\}$  \n",
    " - $\\mapsto x = -\\frac{\\pi}{2}$ and $y \\in R$  \n",
    " - $\\mapsto \\sin(z) = \\sin(-\\frac{\\pi}{2}) \\cosh(y) + i\\cos(-\\frac{\\pi}{2})\\sinh(y)$\n",
    " - $\\mapsto \\sin(z) = -\\cosh(y)$\n",
    "\n",
    "*because* $\\cosh(y) \\in (1,+\\infty)$ when $y \\in R$\n",
    "- $\\mapsto \\sin(z) \\in (-\\infty,-1)$ when $z$ in $L_3$\n",
    "---\n",
    "\n",
    "### 4\n",
    "*because* $L_4 = \\{\\frac{\\pi}{2}+iy\\ | y \\in R \\}$\n",
    " - $\\mapsto x = \\frac{\\pi}{2}$ and $y \\in R$\n",
    " - $\\mapsto \\sin(z) = \\sin(\\frac{\\pi}{2}) \\cosh(y) + i\\cos(\\frac{\\pi}{2})\\sinh(y)$\n",
    " - $\\mapsto \\sin(z) = \\cosh(y)$\n",
    "\n",
    "*because* $\\cosh(y) \\in (1,+\\infty)$ when $y \\in R$\n",
    "- $\\mapsto \\sin(z) \\in (1,+\\infty)$ when $z$ in $L_4$\n",
    "---\n",
    "### 5 \n",
    "i guess $sin(z) \\in C- \\{-\\frac{pi}{2},\\frac{pi}{2}\\}$ when $ U = \\{z \\in C | \\frac{-\\pi}{2} <Re z< \\frac{\\pi}{2}   \\} $\n",
    "\n",
    "### summary \n",
    "- $\\mapsto sin(z) \\in (-1,1) $ when $z$ in $L_1$ and  $L_1 = ( -\\frac{\\pi}{2},\\frac{\\pi}{2} )$\n",
    "- $\\mapsto \\sin(z) \\in \\{iy|y\\in R\\}$ when $z$ in $L_2$ and  $L_2 = \\{iy|y\\in R\\}$\n",
    "- $\\mapsto \\sin(z) \\in (-\\infty,-1)$ when $z$ in $L_3$ and $L_3 = \\{-\\frac{\\pi}{2}+iy\\ | y \\in R \\}$\n",
    "- $\\mapsto \\sin(z) \\in (1,+\\infty)$ when $z$ in $L_4$ and  $L_4 = \\{\\frac{\\pi}{2}+iy\\ | y \\in R \\}$\n",
    "\n",
    "\n",
    "![image.png](https://upload-images.jianshu.io/upload_images/7896180-3b3c74618184de4c.png?imageMogr2/auto-orient/strip%7CimageView2/2/w/1240)\n"
   ]
  }
 ],
 "metadata": {
  "kernelspec": {
   "display_name": "Python 3",
   "language": "python",
   "name": "python3"
  },
  "language_info": {
   "codemirror_mode": {
    "name": "ipython",
    "version": 3
   },
   "file_extension": ".py",
   "mimetype": "text/x-python",
   "name": "python",
   "nbconvert_exporter": "python",
   "pygments_lexer": "ipython3",
   "version": "3.6.5"
  }
 },
 "nbformat": 4,
 "nbformat_minor": 2
}
