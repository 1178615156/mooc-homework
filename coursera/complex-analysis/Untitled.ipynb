{
 "cells": [
  {
   "cell_type": "markdown",
   "metadata": {},
   "source": [
    "$z = x + iy$  \n",
    "$D=\\{z \\in C| 0 < Re \\: z < \\pi, 0 < Im \\: z < 1 \\}$\n",
    "we know $D$ is `rectangle`\n",
    "- $\\gamma_1 \\in \\{\\ {x + iy\\ |\\ 0<x<\\pi,y=0} \\} $\n",
    "- $\\gamma_2 \\in \\{\\ {x + iy\\ |\\ 0<x<\\pi,y=1} \\} $\n",
    "- $\\gamma_3 \\in \\{\\ {x + iy\\ |\\ x=0,0<y<1} \\} $\n",
    "- $\\gamma_4 \\in \\{\\ {x + iy\\ |\\ x=\\pi,0<y<1} \\} $\n",
    "---\n",
    "when $z \\in \\gamma_1 \\mapsto  0<x<\\pi,y=0 $\n",
    "- $sin(z) = sin(x+iy)$\n",
    "- $sin(z) = sin(x + 0)$\n",
    "- $max(|sin(z)|) = max(|sin(x)|) = sin(\\pi/2)= 1 $ when $x=\\pi/2$\n",
    "---\n",
    "when $z \\in \\gamma_2 \\mapsto 0<x<\\pi,y=1 $\n",
    "- $sin(z) = sin(x+i*y)$\n",
    "- $sin(z) = \\frac{e^{(x+yi)*i} - e^{-(x+yi)*i}}{2i} $\n",
    "- $sin(z) = \\frac{ i}{2} (e^{-(x+yi)*i} - e^{(x+yi)*i} ) $\n",
    "- $sin(z) = \\frac{ i}{2} (e^{-xi+y} - e^{xi-y}) $\n",
    "- $sin(z) = \\frac{ i}{2} (e^{-xi+1} - e^{xi-1}) $ when $y =1$\n",
    "- $|sin(z)| = \\frac{1}{2} |(e^{-xi+1} - e^{xi-1})|$\n",
    "- $max(|sin(z)|) = max( \\frac{1}{2} |(e^{-xi+1} - e^{xi-1})|)$\n",
    "- $max(|sin(z)|) =  \\frac{1}{2} |(e^{-\\frac{\\pi}{2}i+1} - e^{\\frac{\\pi}{2}i-1})|= \\frac{1}{2}(e+\\frac{1}{e} )$ when $x=\\pi/2$(i guess)\n",
    "---\n",
    "when $z \\in \\gamma_3 \\mapsto x =0, 0<y<1$\n",
    "- $sin(z) = \\frac{ i}{2} (e^{-xi+y} - e^{xi-y}) $\n",
    "- $sin(z) = \\frac{i}{2} (e^y - e^{-y})$\n",
    "- $max(|sin(z)|) =\\frac{1}{2}|e^y - e^{-y}| = \\frac{1}{2}(e-\\frac{1}{e} )$ when $y = 1$\n",
    "---\n",
    "when $z \\in \\gamma_4 \\mapsto x =\\pi, 0<y<1$\n",
    "- $sin(z) = \\frac{ i}{2} (e^{-xi+y} - e^{xi-y}) $\n",
    "- $sin(z) = \\frac{i}{2} (e^{-\\pi i +y} - e^{\\pi i -y})$\n",
    "- $sin(z) = \\frac{i}{2} (e^{-y}-e^y)$\n",
    "- $max(|sin(z)|) =\\frac{1}{2}|e^{-y} - e^{y}| = \\frac{1}{2}(e-\\frac{1}{e} )$ when $y = 1$\n",
    "---\n",
    "### summary\n",
    "- $x=\\pi/2 , y =0 \\mapsto |sin(z)|=1$ \n",
    "- $x=\\pi/2 , y =1 \\mapsto |sin(z)|=\\frac{1}{2}(e+\\frac{1}{e})$ \n",
    "- $x =0 , y =1 \\mapsto |sin(z)| = \\frac{1}{2}(e-\\frac{1}{e} ) $\n",
    "- $x =\\pi , y =1 \\mapsto |sin(z)| = \\frac{1}{2}(e-\\frac{1}{e} ) $\n",
    "- $max(|sin(z)|)  = \\frac{1}{2}(e+\\frac{1}{e})$\n"
   ]
  }
 ],
 "metadata": {
  "kernelspec": {
   "display_name": "Python 3",
   "language": "python",
   "name": "python3"
  },
  "language_info": {
   "codemirror_mode": {
    "name": "ipython",
    "version": 3
   },
   "file_extension": ".py",
   "mimetype": "text/x-python",
   "name": "python",
   "nbconvert_exporter": "python",
   "pygments_lexer": "ipython3",
   "version": "3.6.5"
  }
 },
 "nbformat": 4,
 "nbformat_minor": 2
}
