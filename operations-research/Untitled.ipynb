{
 "cells": [
  {
   "cell_type": "code",
   "execution_count": 39,
   "metadata": {},
   "outputs": [],
   "source": [
    "from pyscipopt import Model\n",
    "import numpy as np \n",
    "from functools import reduce\n",
    "\n",
    "def add_const(model,cons):\n",
    "    for x in cons:\n",
    "        model.addCons(x)\n",
    "        \n",
    "def mk_var(model,size,dtype,name):\n",
    "    return [model.addVar(name + \"_\" + str(x),vtype=dtype) for x in range(size)]\n",
    "\n",
    "def get_values(model,values):\n",
    "    return dict([(str(x),model.getVal(x)) for x in values])"
   ]
  },
  {
   "cell_type": "code",
   "execution_count": 83,
   "metadata": {},
   "outputs": [
    {
     "name": "stdout",
     "output_type": "stream",
     "text": [
      "optimal\n",
      "{'x1': 0.0, 'x2': 0.0}\n",
      "{'x1': 0.0, 'x2': 0.0, 'obj': 0.0}\n"
     ]
    }
   ],
   "source": [
    "model = Model(\"3.1-5\")\n",
    "x1 = model.addVar(\"x1\",vtype=\"INTEGER\")\n",
    "x2 = model.addVar(\"x2\",vtype=\"INTEGER\")\n",
    "\n",
    "Z = 3 * x1 + 2 * x2 \n",
    "Z = -Z\n",
    "consts = [\n",
    "    x1 <= 4 ,\n",
    "    x2 <= 6,\n",
    "    3 * x1 + 2 * x2 <=8,\n",
    "    x1 >= 0,\n",
    "    x2 >= 0,\n",
    "]\n",
    "add_const(model,consts)\n",
    "model.setObjective(Z,sense=\"maximize\")\n",
    "model.optimize()\n",
    "print(model.getStatus())\n",
    "print(get_values(model,[x1,x2]))\n",
    "# print(model.getObjVal())\n",
    "for x in model.getSols():\n",
    "    print({\n",
    "        \"x1\": (model.getSolVal(x,x1)),\n",
    "        \"x2\": (model.getSolVal(x,x2)),\n",
    "        \"obj\":  (model.getSolObjVal(x)),\n",
    "\n",
    "    })\n"
   ]
  },
  {
   "cell_type": "code",
   "execution_count": 35,
   "metadata": {},
   "outputs": [],
   "source": [
    "model = Model(\"fly\")\n",
    "shift_1 = model.addVar(\"shift_1\",vtype=\"INTEGER\")\n",
    "shift_2 = model.addVar(\"shift_2\",vtype=\"INTEGER\")\n",
    "shift_3 = model.addVar(\"shift_3\",vtype=\"INTEGER\")\n",
    "shift_4 = model.addVar(\"shift_4\",vtype=\"INTEGER\")\n",
    "shift_5 = model.addVar(\"shift_5\",vtype=\"INTEGER\")\n",
    "\n",
    "values = [shift_1,shift_2,shift_3,shift_4,shift_5]\n",
    "\n",
    "shift_cost = [170,170,175,180,195]\n",
    "shift_cons = [\n",
    "    shift_1 >= 48,\n",
    "    shift_1 + shift_2 >= 79,\n",
    "    shift_1 + shift_2 + shift_3 >= 87,\n",
    "    shift_2 + shift_3 >= 64,\n",
    "    shift_3 + shift_4 >= 82,\n",
    "    shift_4 >= 43,\n",
    "    shift_4 + shift_5 >= 52,\n",
    "    shift_5 >=15,\n",
    "]\n",
    "cost = 170 * shift_1 + 160 * shift_2 + 175 * shift_3 + 180 * shift_4 + 195 * shift_5\n",
    "cost = reduce(lambda l,r : l + r ,np.array(shift_cost) * np.array(values))\n",
    "for cons in shift_cons:\n",
    "    model.addCons(cons)\n",
    "\n",
    "model.setObjective(cost,sense=\"minimize\")\n",
    "model.optimize()"
   ]
  },
  {
   "cell_type": "code",
   "execution_count": 38,
   "metadata": {},
   "outputs": [
    {
     "data": {
      "text/plain": [
       "Expr({Term(shift_1): 170.0, Term(shift_2): 170.0, Term(shift_3): 175.0, Term(shift_4): 180.0, Term(shift_5): 195.0})"
      ]
     },
     "execution_count": 38,
     "metadata": {},
     "output_type": "execute_result"
    }
   ],
   "source": [
    "(np.array(shift_cost) * np.array(values)).sum()"
   ]
  },
  {
   "cell_type": "code",
   "execution_count": 37,
   "metadata": {},
   "outputs": [
    {
     "name": "stdout",
     "output_type": "stream",
     "text": [
      "shift_1 48.0\n",
      "shift_2 31.0\n",
      "shift_3 39.0\n",
      "shift_4 43.0\n",
      "shift_5 15.0\n",
      "30920.0\n"
     ]
    }
   ],
   "source": [
    "for x in values:\n",
    "    print(x,model.getVal(x))\n",
    "print(model.getObjVal())"
   ]
  },
  {
   "cell_type": "code",
   "execution_count": null,
   "metadata": {},
   "outputs": [],
   "source": [
    "\n",
    "\n",
    "\n",
    "\n",
    "\n",
    "\n",
    "\n",
    "\n",
    "\n",
    "\n",
    "\n",
    "\n",
    "\n",
    "\n",
    "\n",
    "\n",
    "\n",
    "\n",
    "\n",
    "\n"
   ]
  }
 ],
 "metadata": {
  "kernelspec": {
   "display_name": "Python 3",
   "language": "python",
   "name": "python3"
  },
  "language_info": {
   "codemirror_mode": {
    "name": "ipython",
    "version": 3
   },
   "file_extension": ".py",
   "mimetype": "text/x-python",
   "name": "python",
   "nbconvert_exporter": "python",
   "pygments_lexer": "ipython3",
   "version": "3.6.5"
  }
 },
 "nbformat": 4,
 "nbformat_minor": 2
}
