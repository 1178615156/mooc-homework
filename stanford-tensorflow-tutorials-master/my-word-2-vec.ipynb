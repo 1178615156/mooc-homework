{
 "cells": [
  {
   "cell_type": "code",
   "execution_count": 56,
   "metadata": {
    "collapsed": true
   },
   "outputs": [],
   "source": [
    "# These are all the modules we'll be using later. Make sure you can import them\n",
    "# before proceeding further.\n",
    "%matplotlib inline\n",
    "from __future__ import print_function\n",
    "import collections\n",
    "import math\n",
    "import numpy as np\n",
    "import os\n",
    "import random\n",
    "import tensorflow as tf\n",
    "import zipfile\n",
    "from matplotlib import pylab\n",
    "from six.moves import range\n",
    "from six.moves.urllib.request import urlretrieve\n",
    "from sklearn.manifold import TSNE\n",
    "import pandas as pd \n",
    "import time"
   ]
  },
  {
   "cell_type": "code",
   "execution_count": 164,
   "metadata": {
    "collapsed": true
   },
   "outputs": [],
   "source": [
    "sess = tf.InteractiveSession()"
   ]
  },
  {
   "cell_type": "code",
   "execution_count": 54,
   "metadata": {},
   "outputs": [],
   "source": [
    "def current_milli_time() -> int: return int(round(time.time() * 1000))"
   ]
  },
  {
   "cell_type": "code",
   "execution_count": 3,
   "metadata": {},
   "outputs": [],
   "source": [
    "my_words = list(open(\"test-my-word-2-vec.txt\",encoding=\"UTF-8\").read())\n",
    "my_words = pd.Series(my_words)"
   ]
  },
  {
   "cell_type": "code",
   "execution_count": 4,
   "metadata": {
    "collapsed": true
   },
   "outputs": [],
   "source": [
    "count = my_words.value_counts().sort_values(ascending=False)\n",
    "chars  = count.index.sort_values()\n",
    "char_ids = pd.DataFrame(list(zip(chars,list(range(len(chars))))),columns=[\"char\",\"id\"])\n",
    "\n",
    "dictionary = char_ids.set_index(\"char\")[\"id\"].to_dict()\n",
    "dictionary_reverse = char_ids.set_index(\"id\")[\"char\"].to_dict()"
   ]
  },
  {
   "cell_type": "code",
   "execution_count": 100,
   "metadata": {
    "scrolled": true
   },
   "outputs": [
    {
     "data": {
      "text/plain": [
       "5442"
      ]
     },
     "execution_count": 100,
     "metadata": {},
     "output_type": "execute_result"
    }
   ],
   "source": [
    "df = pd.read_csv(\"./test-my-word-2-vec.csv\",encoding=\"UTF-8\")\n",
    "df[\"feature\"] = df.feature.map(dictionary)\n",
    "df[\"label\"] = df.label.map(dictionary)\n",
    "len(df)"
   ]
  },
  {
   "cell_type": "code",
   "execution_count": 131,
   "metadata": {},
   "outputs": [
    {
     "data": {
      "text/html": [
       "<div>\n",
       "<style>\n",
       "    .dataframe thead tr:only-child th {\n",
       "        text-align: right;\n",
       "    }\n",
       "\n",
       "    .dataframe thead th {\n",
       "        text-align: left;\n",
       "    }\n",
       "\n",
       "    .dataframe tbody tr th {\n",
       "        vertical-align: top;\n",
       "    }\n",
       "</style>\n",
       "<table border=\"1\" class=\"dataframe\">\n",
       "  <thead>\n",
       "    <tr style=\"text-align: right;\">\n",
       "      <th></th>\n",
       "      <th>feature</th>\n",
       "      <th>label</th>\n",
       "    </tr>\n",
       "  </thead>\n",
       "  <tbody>\n",
       "    <tr>\n",
       "      <th>100</th>\n",
       "      <td>50</td>\n",
       "      <td>46</td>\n",
       "    </tr>\n",
       "    <tr>\n",
       "      <th>101</th>\n",
       "      <td>50</td>\n",
       "      <td>511</td>\n",
       "    </tr>\n",
       "    <tr>\n",
       "      <th>102</th>\n",
       "      <td>511</td>\n",
       "      <td>50</td>\n",
       "    </tr>\n",
       "    <tr>\n",
       "      <th>103</th>\n",
       "      <td>511</td>\n",
       "      <td>532</td>\n",
       "    </tr>\n",
       "    <tr>\n",
       "      <th>104</th>\n",
       "      <td>532</td>\n",
       "      <td>511</td>\n",
       "    </tr>\n",
       "    <tr>\n",
       "      <th>105</th>\n",
       "      <td>532</td>\n",
       "      <td>589</td>\n",
       "    </tr>\n",
       "    <tr>\n",
       "      <th>106</th>\n",
       "      <td>589</td>\n",
       "      <td>532</td>\n",
       "    </tr>\n",
       "    <tr>\n",
       "      <th>107</th>\n",
       "      <td>589</td>\n",
       "      <td>682</td>\n",
       "    </tr>\n",
       "    <tr>\n",
       "      <th>108</th>\n",
       "      <td>682</td>\n",
       "      <td>589</td>\n",
       "    </tr>\n",
       "    <tr>\n",
       "      <th>109</th>\n",
       "      <td>682</td>\n",
       "      <td>568</td>\n",
       "    </tr>\n",
       "  </tbody>\n",
       "</table>\n",
       "</div>"
      ],
      "text/plain": [
       "     feature  label\n",
       "100       50     46\n",
       "101       50    511\n",
       "102      511     50\n",
       "103      511    532\n",
       "104      532    511\n",
       "105      532    589\n",
       "106      589    532\n",
       "107      589    682\n",
       "108      682    589\n",
       "109      682    568"
      ]
     },
     "execution_count": 131,
     "metadata": {},
     "output_type": "execute_result"
    }
   ],
   "source": [
    "def get_batch(df, batch_size, iter_number):\n",
    "    start = int(iter_number * batch_size)\n",
    "    end = int((iter_number + 1) * batch_size)\n",
    "    df_size = len(df)\n",
    "    index = map(lambda i: i % len(df), range(start, end))\n",
    "    return df.loc[list(index)]\n",
    "get_batch(df,10,10)"
   ]
  },
  {
   "cell_type": "code",
   "execution_count": 158,
   "metadata": {},
   "outputs": [
    {
     "data": {
      "text/plain": [
       "684"
      ]
     },
     "execution_count": 158,
     "metadata": {},
     "output_type": "execute_result"
    }
   ],
   "source": [
    "skip_window = 1\n",
    "batch_size = 32\n",
    "embedding_size = 32\n",
    "num_sampled = 64\n",
    "LEARNING_RATE = 0.001\n",
    "max_iter_steps = 10000 +  1\n",
    "NUM_SAMPLED = 64\n",
    "vocabulary_size = len(chars)\n",
    "vocabulary_size"
   ]
  },
  {
   "cell_type": "code",
   "execution_count": 165,
   "metadata": {
    "scrolled": false
   },
   "outputs": [
    {
     "name": "stdout",
     "output_type": "stream",
     "text": [
      "Average loss at step 0:   0.1\n",
      "Average loss at step 1000:  99.2\n",
      "Average loss at step 2000:  33.7\n",
      "Average loss at step 3000:  12.9\n",
      "Average loss at step 4000:   7.2\n",
      "Average loss at step 5000:   5.1\n",
      "Average loss at step 6000:   4.2\n",
      "Average loss at step 7000:   3.8\n",
      "Average loss at step 8000:   3.4\n",
      "Average loss at step 9000:   3.1\n",
      "Average loss at step 10000:   2.9\n"
     ]
    }
   ],
   "source": [
    "center_words = tf.placeholder(tf.int32,shape=[batch_size],name=\"center_words\")\n",
    "targer_words = tf.placeholder(tf.int32,shape=[batch_size,1],name=\"target_words\")\n",
    "embed_matrix = tf.Variable(tf.random_uniform([vocabulary_size,embedding_size],-1.0,1),name=\"embed_matrix\")\n",
    "embed = tf.nn.embedding_lookup(embed_matrix,center_words,name=\"embed\")\n",
    "\n",
    "nce_weight = tf.Variable(tf.truncated_normal([vocabulary_size, embedding_size],\n",
    "                                                    stddev=1.0 / (embedding_size ** 0.5)), \n",
    "                                                    name='nce_weight')\n",
    "nce_bias = tf.Variable(tf.zeros([vocabulary_size]), name='nce_bias')\n",
    "loss = tf.reduce_mean(tf.nn.nce_loss(weights=nce_weight, \n",
    "                                            biases=nce_bias, \n",
    "                                            labels=targer_words, \n",
    "                                            inputs=embed, \n",
    "                                            num_sampled=NUM_SAMPLED, \n",
    "                                            num_classes=vocabulary_size), name='loss')\n",
    "optimizer = tf.train.AdamOptimizer(LEARNING_RATE).minimize(loss)\n",
    "\n",
    "norm = tf.sqrt(tf.reduce_sum(tf.square(embeddings), 1, keep_dims=True))\n",
    "normalized_embeddings = embeddings / norm\n",
    "\n",
    "with sess.as_default() as sess:\n",
    "    sess.run(tf.global_variables_initializer())\n",
    "    total_loss = 0.0 \n",
    "    writer = tf.summary.FileWriter('./graphs/no_frills/', sess.graph)\n",
    "    for i in range(max_iter_steps):\n",
    "        batch= get_batch(df,batch_size=batch_size,iter_number=i)\n",
    "        batch_data = batch[\"feature\"].values\n",
    "        batch_labels = batch[\"label\"].values.reshape([batch_size,1])\n",
    "        the_loss,_ = sess.run([loss,optimizer],feed_dict={center_words:batch_data,targer_words:batch_labels})\n",
    "        total_loss += the_loss\n",
    "        if (i % 1000 ==0):\n",
    "            print('Average loss at step {}: {:5.1f}'.format(i, total_loss / 1000))\n",
    "            total_loss = 0.0\n",
    "    writer.close()\n"
   ]
  },
  {
   "cell_type": "code",
   "execution_count": 172,
   "metadata": {},
   "outputs": [],
   "source": []
  },
  {
   "cell_type": "code",
   "execution_count": 214,
   "metadata": {
    "scrolled": false
   },
   "outputs": [
    {
     "name": "stdout",
     "output_type": "stream",
     "text": [
      "于 - near:['于' '。' '喷' '“' '洞' '那' 'P' '急' '是' '难']\n",
      "下 - near:['下' '呼' '词' '。' '陆' '折' '银' '囚' '方' '糊']\n",
      "E - near:['E' '骨' '（' '词' '表' '字' '务' '空' '产' '苏']\n",
      "c - near:['c' '诸' '务' '彼' '媒' '2' '线' '服' '授' '见']\n",
      "• - near:['•' '生' '为' '瞬' '味' '应' 'M' '另' '交' '两']\n",
      "三 - near:['三' '努' '枪' '装' 'R' '争' '委' '夜' '分' '公']\n",
      "1 - near:['1' 'C' '炮' '宫' '直' 'L' '广' '巧' '甚' '怎']\n",
      "他 - near:['他' '喷' '个' '诸' '力' '地' '们' '即' '右' '委']\n",
      "《 - near:['《' '架' '园' '目' '乎' '名' '晨' '些' '其' '叫']\n",
      "i - near:['i' '么' '凭' '聘' '然' '轻' '尔' '劫' '长' '诉']\n",
      "N - near:['N' '挥' '战' '括' '片' '图' '授' '带' '喷' '属']\n",
      "G - near:['G' '构' 'F' '战' '易' '宫' '房' '示' '年' '伦']\n",
      "五 - near:['五' '受' '些' '咙' '运' '科' '折' '束' '有' '许']\n",
      "b - near:['b' '同' '2' 'n' '经' '米' '在' '俯' '频' '挥']\n",
      "- - near:['-' '最' '护' '散' '穿' '表' '蔡' '先' '果' '备']\n",
      "事 - near:['事' '血' '实' '定' '切' '跳' '重' '记' '说' '把']\n"
     ]
    }
   ],
   "source": [
    "valid_size = 16 # Random set of words to evaluate similarity on.\n",
    "valid_window = 100 # Only pick dev samples in the head of the distribution.\n",
    "valid_examples = np.array(random.sample(range(valid_window), valid_size))\n",
    "\n",
    "valid_dataset = tf.constant(valid_examples, dtype=tf.int32)\n",
    "valid_embeddings = tf.nn.embedding_lookup(normalized_embeddings, valid_dataset)\n",
    "similarity = tf.matmul(valid_embeddings, tf.transpose(normalized_embeddings))\n",
    "\n",
    "sim = similarity.eval()\n",
    "sim_df = pd.DataFrame(sim)\n",
    "sim_df.index = valid_examples\n",
    "for i in sim_df.index:\n",
    "    near = sim_df.loc[i].sort_values(ascending=False).head(10).index\n",
    "    near = pd.Series(near)\n",
    "    near = near.map(dictionary_reverse).values\n",
    "    print(\"%s - near:%s\" %(dictionary_reverse[i],near))"
   ]
  },
  {
   "cell_type": "code",
   "execution_count": 215,
   "metadata": {
    "scrolled": true
   },
   "outputs": [],
   "source": [
    "# dictionary_reverse"
   ]
  },
  {
   "cell_type": "code",
   "execution_count": null,
   "metadata": {
    "scrolled": false
   },
   "outputs": [],
   "source": []
  },
  {
   "cell_type": "code",
   "execution_count": 12,
   "metadata": {
    "collapsed": true
   },
   "outputs": [],
   "source": [
    "\n",
    "\n",
    "\n"
   ]
  },
  {
   "cell_type": "code",
   "execution_count": 61,
   "metadata": {
    "collapsed": true,
    "scrolled": false
   },
   "outputs": [],
   "source": [
    "train_features = tf.placeholder(tf.int32, shape=[batch_size],name=\"train_featuers\")\n",
    "train_labels = tf.placeholder(tf.int32, shape=[batch_size, 1],name=\"train_labels\")\n",
    "valid_dataset = tf.constant(valid_examples, dtype=tf.int32)\n",
    "\n",
    "embeddings = tf.Variable(tf.random_uniform([vocabulary_size, embedding_size], -1.0, 1.0))\n",
    "\n",
    "softmax_weights = tf.Variable(tf.truncated_normal([vocabulary_size, embedding_size],stddev=1.0 / math.sqrt(embedding_size)))\n",
    "softmax_biases = tf.Variable(tf.zeros([vocabulary_size]))\n",
    "embed = tf.nn.embedding_lookup(embeddings, train_features)\n",
    "loss = tf.reduce_mean(\n",
    "  tf.nn.sampled_softmax_loss(weights=softmax_weights, biases=softmax_biases, inputs=embed,\n",
    "                             labels=train_labels, num_sampled=num_sampled, num_classes=vocabulary_size))\n",
    "\n",
    "optimizer = tf.train.AdagradOptimizer(1.0).minimize(loss)\n",
    "norm = tf.sqrt(tf.reduce_sum(tf.square(embeddings), 1, keep_dims=True))\n",
    "normalized_embeddings = embeddings / norm\n",
    "valid_embeddings = tf.nn.embedding_lookup(normalized_embeddings, valid_dataset)\n",
    "similarity = tf.matmul(valid_embeddings, tf.transpose(normalized_embeddings))"
   ]
  },
  {
   "cell_type": "code",
   "execution_count": 133,
   "metadata": {
    "scrolled": false
   },
   "outputs": [
    {
     "name": "stdout",
     "output_type": "stream",
     "text": [
      "Average loss at step 0: 3.542005\n",
      "Nearest to 8: 场, 设, 焦, 轮, 宫, 做, 我, @,\n",
      "Nearest to 乎: 吧, 炮, 轮, 进, 种, 园, 跳, 忙,\n",
      "Nearest to 《: 图, 极, 悉, 廊, 正, 告, 击, 望,\n",
      "Nearest to i: 部, 挥, 伦, 总, 炸, 内, 权, 不,\n",
      "Nearest to 习: d, 帮, 把, l, 边, 经, 迫, 咙,\n",
      "Nearest to 》: 明, 系, 园, 萨, 骑, 故, 提, 补,\n",
      "Nearest to L: 广, 倒, g, 举, 喷, 女, •, \n",
      ",\n",
      "Nearest to 于: 管, 件, 确, -, 海, 9, 怎, 卷,\n",
      "Nearest to 不: 炸, ）, 过, i, 定, 展, 习, 挥,\n",
      "Nearest to -: 示, 脱, 改, 士, 广, 于, 焦, 罩,\n",
      "Nearest to b: o, 伯, 世, 查, 他, 发, 立, 特,\n",
      "Nearest to 件: 间, 确, 树, 于, 少, 一, 爆, 考,\n",
      "Nearest to n: 便, 壳, 树, 般, 纪, 年, 告, 药,\n",
      "Nearest to 么: ’, P, 争, 枪, 疗, G, 拿, 许,\n",
      "Nearest to 个: “, 半, 塞, 秒, 兴, 树,  , 概,\n",
      "Nearest to 下: 2, 膛, 吧, 方, 列, 黏, 骂, 诉,\n",
      "Average loss at step 100: 0.170642\n",
      "Average loss at step 200: 0.155209\n",
      "Average loss at step 300: 0.120333\n",
      "Average loss at step 400: 0.116734\n",
      "Average loss at step 500: 0.102568\n",
      "Average loss at step 600: 0.093720\n",
      "Average loss at step 700: 0.092693\n",
      "Average loss at step 800: 0.077418\n",
      "Average loss at step 900: 0.078746\n"
     ]
    }
   ],
   "source": [
    "num_steps = 1000\n",
    "with tf.Session() as session : \n",
    "    tf.global_variables_initializer().run()\n",
    "    session.run(feature_iterator.initializer)\n",
    "    session.run(label_iterator.initializer)\n",
    "    average_loss=0\n",
    "    for step in range(num_steps):\n",
    "        batch = get_batch(df,batch_size=batch_size,iter_number=step)\n",
    "        batch_data = batch[\"feature\"].values\n",
    "        batch_labels = batch[\"label\"].values\n",
    "        feed_dict = {train_features : batch_data, train_labels : batch_labels.reshape([batch_size,1])}\n",
    "        _, l = session.run([optimizer, loss], feed_dict=feed_dict)\n",
    "        average_loss += l\n",
    "        if step % 100 == 0:\n",
    "            if step > 0:\n",
    "                average_loss = average_loss / 2000\n",
    "            # The average loss is an estimate of the loss over the last 2000 batches.\n",
    "            print('Average loss at step %d: %f' % (step, average_loss))\n",
    "            average_loss = 0\n",
    "        # note that this is expensive (~20% slowdown if computed every 500 steps)\n",
    "        if step % 10000 == 0:\n",
    "            sim = similarity.eval()\n",
    "            for i in range(valid_size):\n",
    "                valid_word = dictionary_reverse[valid_examples[i]]\n",
    "                top_k = 8 # number of nearest neighbors\n",
    "                nearest = (-sim[i, :]).argsort()[1:top_k+1]\n",
    "                log = 'Nearest to %s:' % valid_word\n",
    "                for k in range(top_k):\n",
    "                    close_word = dictionary_reverse[nearest[k]]\n",
    "                    log = '%s %s,' % (log, close_word)\n",
    "                print(log)\n",
    "    final_embeddings = normalized_embeddings.eval()"
   ]
  },
  {
   "cell_type": "code",
   "execution_count": 168,
   "metadata": {
    "collapsed": true
   },
   "outputs": [],
   "source": [
    "num_points = 400\n",
    "\n",
    "tsne = TSNE(perplexity=30, n_components=2, init='pca', n_iter=5000)\n",
    "two_d_embeddings = tsne.fit_transform(final_embeddings[1:num_points+1, :])"
   ]
  },
  {
   "cell_type": "code",
   "execution_count": 169,
   "metadata": {},
   "outputs": [
    {
     "data": {
      "image/png": "[encoded data removed]",
      "text/plain": [
       "<matplotlib.figure.Figure at 0x277d42c9ef0>"
      ]
     },
     "metadata": {},
     "output_type": "display_data"
    }
   ],
   "source": [
    "def plot(embeddings, labels):\n",
    "  assert embeddings.shape[0] >= len(labels), 'More labels than embeddings'\n",
    "  pylab.figure(figsize=(15,15))  # in inches\n",
    "  for i, label in enumerate(labels):\n",
    "    x, y = embeddings[i,:]\n",
    "    pylab.scatter(x, y)\n",
    "    pylab.annotate(label, xy=(x, y), xytext=(5, 2), textcoords='offset points',\n",
    "                   ha='right', va='bottom')\n",
    "  pylab.show()\n",
    "\n",
    "words = [dictionary_reverse[i] for i in range(1, num_points+1)]\n",
    "plot(two_d_embeddings, words)"
   ]
  },
  {
   "cell_type": "code",
   "execution_count": null,
   "metadata": {
    "collapsed": true
   },
   "outputs": [],
   "source": [
    "# data[0:2]\n",
    "# data[0:1]\n",
    "# data[1:2]\n",
    "# pd.DataFrame({\n",
    "#     \"feature\": result_feature,\n",
    "#     \"lable\" : result_lable\n",
    "# })"
   ]
  },
  {
   "cell_type": "code",
   "execution_count": null,
   "metadata": {
    "collapsed": true
   },
   "outputs": [],
   "source": [
    "\n",
    "\n",
    "\n",
    "\n",
    "\n",
    "\n",
    "\n",
    "\n",
    "\n",
    "\n",
    "\n",
    "\n",
    "\n",
    "\n",
    "\n",
    "\n",
    "\n",
    "\n",
    "\n",
    "\n",
    "\n",
    "\n",
    "\n",
    "\n",
    "\n",
    "\n",
    "\n",
    "\n",
    "\n",
    "\n",
    "\n",
    "\n",
    "\n",
    "\n",
    "\n"
   ]
  }
 ],
 "metadata": {
  "kernelspec": {
   "display_name": "Python 3",
   "language": "python",
   "name": "python3"
  },
  "language_info": {
   "codemirror_mode": {
    "name": "ipython",
    "version": 3
   },
   "file_extension": ".py",
   "mimetype": "text/x-python",
   "name": "python",
   "nbconvert_exporter": "python",
   "pygments_lexer": "ipython3",
   "version": "3.6.1"
  }
 },
 "nbformat": 4,
 "nbformat_minor": 2
}
